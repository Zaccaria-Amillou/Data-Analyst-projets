{
 "cells": [
  {
   "cell_type": "markdown",
   "id": "fcf61fe5",
   "metadata": {},
   "source": [
    "## <FONT COLOR=\"#FF7D33\"> Projet 6 - La Page </FONT>\n",
    "\n",
    "<FONT COLOR=\"#33A2FF\"> **Import** </FONT>\n",
    "- <a href='#C1'>Import packages et fichiers</a>\n",
    "\n",
    "<FONT COLOR=\"#33A2FF\"> **Analyse tables** </FONT>\n",
    "- <a href='#C2'> Analyse customers </a>\n",
    "- <a href='#C3'> Analyse products </a>\n",
    "- <a href='#C4'> Analyse transactions </a>\n",
    "\n",
    "<FONT COLOR=\"#33A2FF\"> **Jointures** </FONT>\n",
    "- <a href='#C5'> Jointures </a>\n",
    "- <a href='#C6'> Nettoyage Dataframe</a>\n",
    "\n",
    "<FONT COLOR=\"#33A2FF\"> **Analyses** </FONT>\n",
    "- <a href='#C7'> Analyse CA </a>\n",
    "- <a href='#C8'>Analyse du CA par categorie</a>\n",
    "- <a href='#C9'>Indice Gini</a>\n",
    "\n",
    "<FONT COLOR=\"#33A2FF\"> **Tests statistiques** </FONT>\n",
    "- <a href='#C10'> Test statistuqes </a>\n"
   ]
  },
  {
   "cell_type": "markdown",
   "id": "bb4e4662",
   "metadata": {},
   "source": [
    "# <a name='C1'> <FONT COLOR=\"#333CFF\">  Import packages et fichiers</FONT> </a> "
   ]
  },
  {
   "cell_type": "code",
   "execution_count": null,
   "id": "326aba19",
   "metadata": {},
   "outputs": [],
   "source": [
    "import numpy as np\n",
    "import pandas as pd\n",
    "import datetime as dt\n",
    "import matplotlib.pyplot as plt\n",
    "import seaborn as sns\n",
    "from scipy import stats\n",
    "import plotly.express as px\n",
    "import plotly.graph_objs as go\n",
    "from scipy.stats import spearmanr"
   ]
  },
  {
   "cell_type": "code",
   "execution_count": null,
   "id": "c89c529f",
   "metadata": {},
   "outputs": [],
   "source": [
    "# creation variable parcour des fichiers\n",
    "path = 'C:/Users/Zacca/OneDrive/Desktop/Projet 6/'"
   ]
  },
  {
   "cell_type": "code",
   "execution_count": null,
   "id": "6eb26535",
   "metadata": {},
   "outputs": [],
   "source": [
    "# import fichiers csv\n",
    "customers = pd.read_csv(path + 'customers.csv')\n",
    "products = pd.read_csv(path + 'products.csv')\n",
    "transactions = pd.read_csv(path + 'transactions.csv')"
   ]
  },
  {
   "cell_type": "markdown",
   "id": "18f36cdd",
   "metadata": {},
   "source": [
    "# <a name='C2'> <FONT COLOR=\"#333CFF\"> Analyse Customers </FONT> </a>"
   ]
  },
  {
   "cell_type": "code",
   "execution_count": null,
   "id": "66448521",
   "metadata": {},
   "outputs": [],
   "source": [
    "# affichage customers\n",
    "customers.head(3)"
   ]
  },
  {
   "cell_type": "code",
   "execution_count": null,
   "id": "960401a8",
   "metadata": {},
   "outputs": [],
   "source": [
    "# controles valeurs nulles\n",
    "customers.isnull().sum()"
   ]
  },
  {
   "cell_type": "code",
   "execution_count": null,
   "id": "801f5018",
   "metadata": {},
   "outputs": [],
   "source": [
    "# controle type valeurs\n",
    "customers.dtypes"
   ]
  },
  {
   "cell_type": "code",
   "execution_count": null,
   "id": "95d2ed11",
   "metadata": {},
   "outputs": [],
   "source": [
    "# controle doublons\n",
    "print('il y a', len(customers[customers.duplicated(keep=False)]), 'doublons')"
   ]
  },
  {
   "cell_type": "code",
   "execution_count": null,
   "id": "fe45ae8d",
   "metadata": {},
   "outputs": [],
   "source": [
    "# controle unicité id_product\n",
    "products['id_prod'].is_unique"
   ]
  },
  {
   "cell_type": "markdown",
   "id": "efbaba9f",
   "metadata": {},
   "source": [
    "# <a name='C3'> <FONT COLOR=\"#333CFF\"> Analyse Products </FONT></a>"
   ]
  },
  {
   "cell_type": "code",
   "execution_count": null,
   "id": "1e20085e",
   "metadata": {},
   "outputs": [],
   "source": [
    "# affichage products\n",
    "products.head(3)"
   ]
  },
  {
   "cell_type": "code",
   "execution_count": null,
   "id": "18571297",
   "metadata": {},
   "outputs": [],
   "source": [
    "# controle valeurs nulles\n",
    "products.isnull().sum()"
   ]
  },
  {
   "cell_type": "code",
   "execution_count": null,
   "id": "b5c6e9f3",
   "metadata": {},
   "outputs": [],
   "source": [
    "# controle type\n",
    "products.dtypes"
   ]
  },
  {
   "cell_type": "code",
   "execution_count": null,
   "id": "c1199af4",
   "metadata": {},
   "outputs": [],
   "source": [
    "# controle doublons\n",
    "print('il y a', len(products[products.duplicated(keep=False)]), 'doublons')"
   ]
  },
  {
   "cell_type": "code",
   "execution_count": null,
   "id": "250d0130",
   "metadata": {},
   "outputs": [],
   "source": [
    "# controle unicité id_product\n",
    "products['id_prod'].is_unique"
   ]
  },
  {
   "cell_type": "markdown",
   "id": "0ee63303",
   "metadata": {},
   "source": [
    "# <a name='C4'><FONT COLOR=\"#333CFF\"> Analyse Transactions </FONT> </a>"
   ]
  },
  {
   "cell_type": "code",
   "execution_count": null,
   "id": "80159ed6",
   "metadata": {},
   "outputs": [],
   "source": [
    "# affichage transactions\n",
    "transactions.head(3)"
   ]
  },
  {
   "cell_type": "code",
   "execution_count": null,
   "id": "b82c8e5e",
   "metadata": {},
   "outputs": [],
   "source": [
    "# controle valeurs nulles\n",
    "transactions.isnull().sum()"
   ]
  },
  {
   "cell_type": "code",
   "execution_count": null,
   "id": "c4a2e5cc",
   "metadata": {},
   "outputs": [],
   "source": [
    "#controle types\n",
    "transactions.dtypes"
   ]
  },
  {
   "cell_type": "code",
   "execution_count": null,
   "id": "f791678e",
   "metadata": {},
   "outputs": [],
   "source": [
    "# controle doublons\n",
    "print('il y a ', len(transactions[transactions.duplicated(keep=False)]), 'doublons')"
   ]
  },
  {
   "cell_type": "code",
   "execution_count": null,
   "id": "1d904ae3",
   "metadata": {},
   "outputs": [],
   "source": [
    "# affichage doublons\n",
    "transactions[transactions.duplicated(keep=False)].head(3)"
   ]
  },
  {
   "cell_type": "code",
   "execution_count": null,
   "id": "29809016",
   "metadata": {},
   "outputs": [],
   "source": [
    "# affichage valeurs test table products\n",
    "products[products['id_prod'] == 'T_0']"
   ]
  },
  {
   "cell_type": "code",
   "execution_count": null,
   "id": "5abaf7f8",
   "metadata": {},
   "outputs": [],
   "source": [
    "# creation variable test\n",
    "test = transactions[transactions['date'].str.contains('test')]"
   ]
  },
  {
   "cell_type": "code",
   "execution_count": null,
   "id": "1ff6e2c8",
   "metadata": {},
   "outputs": [],
   "source": [
    "# suppression des valeurs test\n",
    "transactions = transactions.drop(test.index)"
   ]
  },
  {
   "cell_type": "code",
   "execution_count": null,
   "id": "bbfc6c02",
   "metadata": {},
   "outputs": [],
   "source": [
    "# controle dboulons\n",
    "print('il y a ', len(transactions[transactions.duplicated(keep=False)]), 'doublons')"
   ]
  },
  {
   "cell_type": "code",
   "execution_count": null,
   "id": "bd543d57",
   "metadata": {},
   "outputs": [],
   "source": [
    "# conversion type colonne date en datetime\n",
    "transactions['date'] = pd.to_datetime(transactions['date'])"
   ]
  },
  {
   "cell_type": "markdown",
   "id": "176e9c31",
   "metadata": {},
   "source": [
    "# <a name='C5'><FONT COLOR=\"#333CFF\"> Jointures </FONT></a>"
   ]
  },
  {
   "cell_type": "code",
   "execution_count": null,
   "id": "b44989dd",
   "metadata": {},
   "outputs": [],
   "source": [
    "# merge des transactions et products\n",
    "trans_prod = pd.merge(transactions, products, on='id_prod', how='left', indicator = True)"
   ]
  },
  {
   "cell_type": "code",
   "execution_count": null,
   "id": "cfbbe957",
   "metadata": {},
   "outputs": [],
   "source": [
    "# controle des jointures\n",
    "print('numero des valeurs differentes de both dans la colonne _merge :', len(trans_prod[trans_prod['_merge'] != 'both']))"
   ]
  },
  {
   "cell_type": "code",
   "execution_count": null,
   "id": "2d86e5a1",
   "metadata": {},
   "outputs": [],
   "source": [
    "# affichage des valeurs\n",
    "trans_prod[trans_prod['_merge'] != 'both'].head(3)"
   ]
  },
  {
   "cell_type": "code",
   "execution_count": null,
   "id": "12fcb743",
   "metadata": {},
   "outputs": [],
   "source": [
    "# controle numero des valeurs de la categorie id_prod\n",
    "print('il y a ', len(trans_prod[trans_prod['id_prod'] == '0_2245']), 'produit dans la categerie 0_2245')"
   ]
  },
  {
   "cell_type": "markdown",
   "id": "5281438b",
   "metadata": {},
   "source": [
    "Ces valeurs n'ont pas une prix ni une categorie, mais on peut extraire la categorie de leurs id_prod : 0_2245.\n",
    "1. Creation d'une moyenne par catégorie \n",
    "2. Ajout de la catégorie dans la colonne Categ\n",
    "3. ajout des valeurs dans la colonne price"
   ]
  },
  {
   "cell_type": "code",
   "execution_count": null,
   "id": "910c12de",
   "metadata": {},
   "outputs": [],
   "source": [
    "# creation moyenne par catégorie \n",
    "means = trans_prod.groupby(['categ'])['price'].mean()"
   ]
  },
  {
   "cell_type": "code",
   "execution_count": null,
   "id": "4d7cb869",
   "metadata": {},
   "outputs": [],
   "source": [
    "# affichage valeurs moyenne\n",
    "means"
   ]
  },
  {
   "cell_type": "code",
   "execution_count": null,
   "id": "26d27b49",
   "metadata": {},
   "outputs": [],
   "source": [
    "# changement valeurs NaN dans la colonne categ\n",
    "trans_prod['categ'] = trans_prod['categ'].fillna(1)"
   ]
  },
  {
   "cell_type": "code",
   "execution_count": null,
   "id": "9397d355",
   "metadata": {},
   "outputs": [],
   "source": [
    "# changement des valeurs NaN dans la colonne price\n",
    "trans_prod['price'].replace(np.nan, 10.638188, inplace=True)"
   ]
  },
  {
   "cell_type": "code",
   "execution_count": null,
   "id": "9cfbe6be",
   "metadata": {},
   "outputs": [],
   "source": [
    "# controle des valeurs\n",
    "trans_prod[trans_prod['id_prod'] == '0_2245'].head(3)"
   ]
  },
  {
   "cell_type": "code",
   "execution_count": null,
   "id": "5449e3ff",
   "metadata": {},
   "outputs": [],
   "source": [
    "# drop colonne _merge\n",
    "trans_prod.drop('_merge', axis ='columns', inplace = True)"
   ]
  },
  {
   "cell_type": "code",
   "execution_count": null,
   "id": "3d523ae0",
   "metadata": {},
   "outputs": [],
   "source": [
    "# jointure entre trans_prod et customers\n",
    "df = pd.merge(trans_prod, customers, on='client_id', how='left', indicator=True)"
   ]
  },
  {
   "cell_type": "code",
   "execution_count": null,
   "id": "d9f90d6d",
   "metadata": {},
   "outputs": [],
   "source": [
    "# controle des jointures\n",
    "print('numero des valeurs differentes de \"both\" dans la colonne \"_merge\" : ', len(df[df['_merge'] != 'both']))"
   ]
  },
  {
   "cell_type": "code",
   "execution_count": null,
   "id": "528eb1da",
   "metadata": {},
   "outputs": [],
   "source": [
    "# drop colonne \"_merge\"\n",
    "df.drop('_merge', axis='columns', inplace = True)"
   ]
  },
  {
   "cell_type": "markdown",
   "id": "23cb4f18",
   "metadata": {},
   "source": [
    "# <a name='C6'><FONT COLOR=\"#333CFF\"> Nettoyage DF </FONT></a>"
   ]
  },
  {
   "cell_type": "code",
   "execution_count": null,
   "id": "9bd29692",
   "metadata": {},
   "outputs": [],
   "source": [
    "# creation colonne An-Mo avec format Année - mois pour manipulation successives\n",
    "df['An-Mo'] = df['date'].dt.strftime('%Y-%m')"
   ]
  },
  {
   "cell_type": "code",
   "execution_count": null,
   "id": "83869593",
   "metadata": {},
   "outputs": [],
   "source": [
    "# creation colonne pour l'âge \n",
    "df['age'] = 2023 - df['birth']"
   ]
  },
  {
   "cell_type": "code",
   "execution_count": null,
   "id": "0ecff610",
   "metadata": {},
   "outputs": [],
   "source": [
    "# conversion format date pour la rendre plus lisible\n",
    "df['date'] = df['date'].dt.strftime('%Y-%m-%d')"
   ]
  },
  {
   "cell_type": "code",
   "execution_count": null,
   "id": "cae55471",
   "metadata": {},
   "outputs": [],
   "source": [
    "df.head(1)"
   ]
  },
  {
   "cell_type": "code",
   "execution_count": null,
   "id": "40666889",
   "metadata": {},
   "outputs": [],
   "source": [
    "# aggregation des valeurs par client\n",
    "df_cl = df.pivot_table(index='client_id', values ='price', aggfunc='sum')"
   ]
  },
  {
   "cell_type": "code",
   "execution_count": null,
   "id": "8932423e",
   "metadata": {},
   "outputs": [],
   "source": [
    "# visualisation dans une graphique\n",
    "fig = px.scatter(df_cl, x=df_cl.index, y=\"price\")\n",
    "fig.show()"
   ]
  },
  {
   "cell_type": "markdown",
   "id": "89a6d841",
   "metadata": {},
   "source": [
    "Présence des quatres outliers importantes.\n",
    "On vas les afficher pour en tirer des conclusion sur leur nature."
   ]
  },
  {
   "cell_type": "code",
   "execution_count": null,
   "id": "73d2884d",
   "metadata": {},
   "outputs": [],
   "source": [
    "# creation variable pour visualiser les clients plus importantes\n",
    "df_sort = df_cl.sort_values(by=['price'], ascending = False)"
   ]
  },
  {
   "cell_type": "code",
   "execution_count": null,
   "id": "5d1dedea",
   "metadata": {},
   "outputs": [],
   "source": [
    "# affichage dataframe sorted\n",
    "df_sort.head(5)"
   ]
  },
  {
   "cell_type": "markdown",
   "id": "05bdca5e",
   "metadata": {},
   "source": [
    "Les montants sont importantes, on peut en déduire qu'ils sont des clients importantes, voire des autres business.\n",
    "On procede avec la création d'une Dataframe specifique pour eux, pour avoir juste les données B2C."
   ]
  },
  {
   "cell_type": "code",
   "execution_count": null,
   "id": "0762e8c7",
   "metadata": {},
   "outputs": [],
   "source": [
    "# creation variable professional\n",
    "df_pro = df_sort.head(4).reset_index()"
   ]
  },
  {
   "cell_type": "code",
   "execution_count": null,
   "id": "fb6d6b7c",
   "metadata": {},
   "outputs": [],
   "source": [
    "# suppression vcaleurs pro du df\n",
    "df = df[df != 'c_1609']\n",
    "df = df[df != 'c_4958']\n",
    "df = df[df != 'c_6714']\n",
    "df = df[df != 'c_3454']"
   ]
  },
  {
   "cell_type": "markdown",
   "id": "700a08eb",
   "metadata": {},
   "source": [
    "# <a name='C7'><FONT COLOR=\"#333CFF\"> Analyse du CA </FONT></a>"
   ]
  },
  {
   "cell_type": "code",
   "execution_count": null,
   "id": "9612efd5",
   "metadata": {},
   "outputs": [],
   "source": [
    "# Determination du CA total\n",
    "chiffre_affaire = np.sum(df['price'])"
   ]
  },
  {
   "cell_type": "code",
   "execution_count": null,
   "id": "d202f6bf",
   "metadata": {},
   "outputs": [],
   "source": [
    "# affichage CA\n",
    "print('Le Ca total est de : ', round(chiffre_affaire,2), 'Euros')"
   ]
  },
  {
   "cell_type": "code",
   "execution_count": null,
   "id": "0979850e",
   "metadata": {},
   "outputs": [],
   "source": [
    "# creation variable pour créer graphique\n",
    "df_group = df.groupby(by ='An-Mo').sum()"
   ]
  },
  {
   "cell_type": "code",
   "execution_count": null,
   "id": "3efc5cdc",
   "metadata": {},
   "outputs": [],
   "source": [
    "# creation colonne moyenne mobile de 12 mois\n",
    "df_group['moving_avg'] = df_group['price'].ewm(span=12).mean()"
   ]
  },
  {
   "cell_type": "code",
   "execution_count": null,
   "id": "dcd3db42",
   "metadata": {},
   "outputs": [],
   "source": [
    "# variable a représenter dans le graphique\n",
    "vars = ['price', 'moving_avg']"
   ]
  },
  {
   "cell_type": "markdown",
   "id": "8076874d",
   "metadata": {},
   "source": [
    "## <FONT COLOR=\"#333CFF\"> Moyenne mobile </FONT>"
   ]
  },
  {
   "cell_type": "code",
   "execution_count": null,
   "id": "5398bd2f",
   "metadata": {},
   "outputs": [],
   "source": [
    "# creation graphique\n",
    "fig = px.line(df_group, x=df_group.index, y=vars, labels={'An-Mo' : 'Mois', 'value' :'CA'},title='Analyse du CA')\n",
    "fig.show()"
   ]
  },
  {
   "cell_type": "markdown",
   "id": "8db858be",
   "metadata": {},
   "source": [
    "## <FONT COLOR=\"#333CFF\"> Mois octobre </FONT>"
   ]
  },
  {
   "cell_type": "code",
   "execution_count": null,
   "id": "09d13339",
   "metadata": {},
   "outputs": [],
   "source": [
    "# creation variable pour le mois octobre\n",
    "df_oct = df[df['An-Mo'] == '2021-10']"
   ]
  },
  {
   "cell_type": "code",
   "execution_count": null,
   "id": "8646f1ca",
   "metadata": {},
   "outputs": [],
   "source": [
    "# creation variable pour faire mettre les données en ordre croissante\n",
    "df_sort_oct = df_oct.sort_values(by = 'date')"
   ]
  },
  {
   "cell_type": "code",
   "execution_count": null,
   "id": "f735f3d1",
   "metadata": {},
   "outputs": [],
   "source": [
    "# creation graphique pour visualiser le mois d'octobre\n",
    "plt.figure(figsize=(20,10))\n",
    "plt.xticks(rotation=45)\n",
    "plt.ylabel('Chiffre Affaire')\n",
    "sns.histplot(data = df_sort_oct, x='date', hue='categ', multiple=\"stack\", palette=('dark') )"
   ]
  },
  {
   "cell_type": "markdown",
   "id": "3929c617",
   "metadata": {},
   "source": [
    "Les valeurs de la catégorie 1.0, entre le 01/10 et le 27/10, n'ont pas été enregistré"
   ]
  },
  {
   "cell_type": "code",
   "execution_count": null,
   "id": "df6e89e3",
   "metadata": {},
   "outputs": [],
   "source": [
    "# suppression mois octobre du df\n",
    "df = df.drop(df_oct.index)"
   ]
  },
  {
   "cell_type": "markdown",
   "id": "adde4b9e",
   "metadata": {},
   "source": [
    "## <FONT COLOR=\"#333CFF\"> Moyenne mobile 2.0 </FONT>"
   ]
  },
  {
   "cell_type": "code",
   "execution_count": null,
   "id": "6263011d",
   "metadata": {},
   "outputs": [],
   "source": [
    "# creation df pour creatio graphique\n",
    "df_group = df.groupby(by='An-Mo').sum()"
   ]
  },
  {
   "cell_type": "code",
   "execution_count": null,
   "id": "e310b931",
   "metadata": {},
   "outputs": [],
   "source": [
    "# creation colonne moyenne mobile de 12 mois\n",
    "df_group['moving_avg'] = df_group['price'].ewm(span=12).mean()"
   ]
  },
  {
   "cell_type": "code",
   "execution_count": null,
   "id": "3e5bbbb1",
   "metadata": {},
   "outputs": [],
   "source": [
    "# creation graphique sans mois d'octobre\n",
    "fig = px.line(df_group, x=df_group.index, y=vars, labels={'An-Mo' : 'Mois', 'value':'CA'}, title='Analyse du CA')\n",
    "fig.show()"
   ]
  },
  {
   "cell_type": "markdown",
   "id": "f6b43ab3",
   "metadata": {},
   "source": [
    "# <a name='C8'><FONT COLOR=\"#333CFF\"> Analyse du CA par categorie </FONT> </a>"
   ]
  },
  {
   "cell_type": "code",
   "execution_count": null,
   "id": "fb0466e6",
   "metadata": {},
   "outputs": [],
   "source": [
    "# creation variable pour créer graphique \n",
    "df_sort1 = df.sort_values(by='An-Mo')"
   ]
  },
  {
   "cell_type": "code",
   "execution_count": null,
   "id": "75bae481",
   "metadata": {},
   "outputs": [],
   "source": [
    "fig = px.histogram(df_sort1, x='An-Mo', color ='categ', labels={'An-Mo' : 'Mois', 'count' : 'CA'}, title='Chiffre affaire par catégorie ')\n",
    "fig.show()"
   ]
  },
  {
   "cell_type": "markdown",
   "id": "b9b002f0",
   "metadata": {},
   "source": [
    "## <FONT COLOR=\"#333CFF\"> Repartition CA entre Categories </FONT>"
   ]
  },
  {
   "cell_type": "code",
   "execution_count": null,
   "id": "1e9291f1",
   "metadata": {},
   "outputs": [],
   "source": [
    "# creation variable pour créer graphique\n",
    "df_categ = df.groupby(by='categ').sum()"
   ]
  },
  {
   "cell_type": "code",
   "execution_count": null,
   "id": "e03a103a",
   "metadata": {},
   "outputs": [],
   "source": [
    "# création graphique\n",
    "fig = px.pie(df_categ, values='price', names=df_categ.index)\n",
    "fig.show()"
   ]
  },
  {
   "cell_type": "markdown",
   "id": "c419180f",
   "metadata": {},
   "source": [
    "## <FONT COLOR=\"#333CFF\"> Distribution des prix par catégorie </FONT>"
   ]
  },
  {
   "cell_type": "code",
   "execution_count": null,
   "id": "76d50093",
   "metadata": {},
   "outputs": [],
   "source": [
    "# creation graphique pour représenter la distribution des prix par categorie\n",
    "plt.figure(figsize=(20,10))\n",
    "sns.boxplot(data=df, y='categ', x='price', orient='h', showfliers=False)\n",
    "plt.title('Distribution des prix par catégorie')\n",
    "plt.xlabel(\"Prix\")\n",
    "plt.ylabel(\"Categ\")\n",
    "plt.show()\n"
   ]
  },
  {
   "cell_type": "markdown",
   "id": "f0c89239",
   "metadata": {},
   "source": [
    "# <a name='C9'> <FONT COLOR=\"#333CFF\"> Inégalités entre clients - Indice Gini</FONT> </a>"
   ]
  },
  {
   "cell_type": "code",
   "execution_count": null,
   "id": "2f5645e1",
   "metadata": {},
   "outputs": [],
   "source": [
    "# creation courbe lorenz\n",
    "df_arr = np.sort(df['price'])\n",
    "arr = np.array(df_arr)\n",
    "\n",
    "def gini(arr):\n",
    "    count = arr.size\n",
    "    coefficient = 2 / count\n",
    "    indexes = np.arange(1, count + 1)\n",
    "    weighted_sum = (indexes * arr).sum()\n",
    "    total = arr.sum()\n",
    "    constant = (count + 1) / count\n",
    "    return coefficient * weighted_sum / total - constant\n",
    "\n",
    "def lorenz(arr):\n",
    "    # this divides the prefix sum by the total sum\n",
    "    # this ensures all the values are between 0 and 1.0\n",
    "    scaled_prefix_sum = arr.cumsum() / arr.sum()\n",
    "    # this prepends the 0 value (because 0% of all people have 0% of all wealth)\n",
    "    return np.insert(scaled_prefix_sum, 0, 0)\n",
    "\n",
    "# show the gini index!\n",
    "print(\"l'indice de gini est : \", gini(arr))\n",
    "\n",
    "lorenz_curve = lorenz(arr)\n",
    "\n",
    "# we need the X values to be between 0.0 to 1.0\n",
    "plt.plot(np.linspace(0.0, 1.0, lorenz_curve.size), lorenz_curve)\n",
    "# plot the straight line perfect equality curve\n",
    "plt.plot([0,1], [0,1])\n",
    "plt.show()"
   ]
  },
  {
   "cell_type": "markdown",
   "id": "3407e1ba",
   "metadata": {},
   "source": [
    "L'indice de GIni montre une inegalite entre clients qui n'est pas trop fort."
   ]
  },
  {
   "cell_type": "markdown",
   "id": "3f13eef1",
   "metadata": {},
   "source": [
    "# <a name='C10'> <FONT COLOR=\"#333CFF\"> Test statistiques</FONT> </a>"
   ]
  },
  {
   "cell_type": "markdown",
   "id": "9de52272",
   "metadata": {},
   "source": [
    "## <FONT COLOR=\"#333CFF\"> Genre et Categorie </FONT>"
   ]
  },
  {
   "cell_type": "markdown",
   "id": "138531b4",
   "metadata": {},
   "source": [
    "Tout d'abord on peut determiner que le Genre est les Catégories sont des données de type Qualitative."
   ]
  },
  {
   "cell_type": "markdown",
   "id": "3a59c19c",
   "metadata": {},
   "source": [
    "Analyse de la distribution des age par genre"
   ]
  },
  {
   "cell_type": "code",
   "execution_count": null,
   "id": "da2132f4",
   "metadata": {},
   "outputs": [],
   "source": [
    "# affichage pyramide des ages par genre\n",
    "fig, axes = plt.subplots(1, 2)\n",
    "fig.suptitle('Pyramide ages par genre')\n",
    "\n",
    "sns.histplot(ax=axes[0], y=df[df['sex']=='m']['age'], bins=12)\n",
    "axes[0].invert_xaxis()\n",
    "axes[0].set_title('M')\n",
    "axes[0].set_xlabel('Numero Personnes')\n",
    "sns.histplot(ax=axes[1], y=df[df['sex']=='f']['age'], bins=12)\n",
    "axes[1].set_yticklabels([])\n",
    "axes[1].set_ylabel('')\n",
    "axes[1].set_title('F')\n",
    "axes[1].set_xlabel('Numero Personnes')\n",
    "\n",
    "plt.subplots_adjust(wspace=0, hspace=0)\n",
    "plt.show()"
   ]
  },
  {
   "cell_type": "markdown",
   "id": "79db0777",
   "metadata": {},
   "source": [
    "Pas des différences importantes"
   ]
  },
  {
   "cell_type": "code",
   "execution_count": null,
   "id": "120c7ea0",
   "metadata": {},
   "outputs": [],
   "source": [
    "# Affichage histogramme genre vs categ\n",
    "fig = px.histogram(df, x='sex', color ='categ', labels={'sex':'Genre', 'categ':'Catégorie'})\n",
    "fig.show()"
   ]
  },
  {
   "cell_type": "code",
   "execution_count": null,
   "id": "0a741d24",
   "metadata": {},
   "outputs": [],
   "source": [
    "# creation table de contingece \n",
    "df_cont = pd.crosstab(index=df['sex'],columns=df['categ'], margins=True)"
   ]
  },
  {
   "cell_type": "code",
   "execution_count": null,
   "id": "737cfcb1",
   "metadata": {},
   "outputs": [],
   "source": [
    "# affichage table de contingence\n",
    "df_cont"
   ]
  },
  {
   "cell_type": "code",
   "execution_count": null,
   "id": "d8441488",
   "metadata": {},
   "outputs": [],
   "source": [
    "# creation heatmap\n",
    "tx = df_cont.loc[:,[\"All\"]]\n",
    "ty = df_cont.loc[[\"All\"],:]\n",
    "n = len(df)\n",
    "indep = tx.dot(ty) / n\n",
    "\n",
    "c = df_cont.fillna(0) # On remplace les valeurs nulles par 0\n",
    "measure = (c-indep)**2/indep\n",
    "xi_n = measure.sum().sum()\n",
    "table = measure/xi_n\n",
    "sns.heatmap(table.iloc[:-1,:-1],annot=c.iloc[:-1,:-1],fmt=\"d\")\n",
    "plt.show()"
   ]
  },
  {
   "cell_type": "markdown",
   "id": "9d87dd5f",
   "metadata": {},
   "source": [
    "### <FONT COLOR=\"#333CFF\"> Test Khi-2 : Genre Vs Categ </FONT>"
   ]
  },
  {
   "cell_type": "code",
   "execution_count": null,
   "id": "2b2620a9",
   "metadata": {},
   "outputs": [],
   "source": [
    "# test de Chi 2\n",
    "table = pd.crosstab(df['categ'], df['sex'], margins=False)\n",
    "stat, p, dof, expected = stats.chi2_contingency(table)\n",
    "print('Test Chi 2')\n",
    "print('Stat = %.3f\\np-value = %.35f' % (stat, p))\n",
    "if p > .05:\n",
    "    print('H0: Les deux variables sont independants')\n",
    "else:\n",
    "    print( 'H1: Il existe une dependance entre les variables.')"
   ]
  },
  {
   "cell_type": "markdown",
   "id": "6b5898f5",
   "metadata": {},
   "source": [
    "## <FONT COLOR=\"#333CFF\"> Âge et montant des achats </FONT>"
   ]
  },
  {
   "cell_type": "code",
   "execution_count": null,
   "id": "f4ff31d3",
   "metadata": {},
   "outputs": [],
   "source": [
    "# creation pivot table\n",
    "ca_age = df.pivot_table(index=['age'], values=['price'], aggfunc=['sum'])\n",
    "ca_age = ca_age.reset_index()\n",
    "ca_age.columns = ca_age.columns.droplevel(1)"
   ]
  },
  {
   "cell_type": "code",
   "execution_count": null,
   "id": "01cc9ca7",
   "metadata": {},
   "outputs": [],
   "source": [
    "# affichage pivot table\n",
    "ca_age.head(3)"
   ]
  },
  {
   "cell_type": "code",
   "execution_count": null,
   "id": "cf599a48",
   "metadata": {},
   "outputs": [],
   "source": [
    "# creation scatter plot\n",
    "fig = px.scatter(ca_age, x='age', y='sum', labels={\"age\": \"Âge\", \"sum\": \"Montant des achats\"}, title=\"Montants des achats par âge \")\n",
    "\n",
    "fig.show()"
   ]
  },
  {
   "cell_type": "code",
   "execution_count": null,
   "id": "0d30719e",
   "metadata": {},
   "outputs": [],
   "source": [
    "# creation graphique\n",
    "fig = px.bar(ca_age, x='age', y='sum', template=\"plotly_white\",width=600, height=400, text ='sum', \n",
    "             labels={\"age\": \"Âge\", \"sum\": \"Montant des achats\"}, title=\"Montants des achats par âge \")\n",
    "fig.update_layout(margin=dict(l=0, r=0, t=40, b=0),title={'text' : \"<b>Montant des achats par âge <b>\",'x':0.5,'xanchor': 'center'})\n",
    "fig.update_traces(texttemplate='%{text:.2s}', textposition='auto')\n",
    "fig.show()"
   ]
  },
  {
   "cell_type": "markdown",
   "id": "38ce9af9",
   "metadata": {},
   "source": [
    "### <FONT COLOR=\"#333CFF\"> Test Spearman : Age Vs Montant achats </FONT>"
   ]
  },
  {
   "cell_type": "code",
   "execution_count": null,
   "id": "6d21ca8c",
   "metadata": {},
   "outputs": [],
   "source": [
    "# spearman test\n",
    "data1 = ca_age['sum']\n",
    "data2 = ca_age['age']\n",
    "coef, p = spearmanr(data1, data2)\n",
    "print('Spearmans correlation coefficient: %.3f' % coef)\n",
    "# interpret the significance\n",
    "alpha = 0.05\n",
    "if p > alpha:\n",
    " print('Samples are uncorrelated (fail to reject H0) p=%.3f' % p)\n",
    "else:\n",
    " print('Samples are correlated (reject H0) p=%.3f' % p)"
   ]
  },
  {
   "cell_type": "markdown",
   "id": "f98c8edd",
   "metadata": {},
   "source": [
    "## <FONT COLOR=\"#333CFF\"> Âge et Catégories </FONT>"
   ]
  },
  {
   "cell_type": "code",
   "execution_count": null,
   "id": "0aacf806",
   "metadata": {},
   "outputs": [],
   "source": [
    "# creation table de contingece \n",
    "df_cont_a = pd.crosstab(index=df['age'],columns=df['categ'], margins=True)"
   ]
  },
  {
   "cell_type": "code",
   "execution_count": null,
   "id": "158da2ae",
   "metadata": {},
   "outputs": [],
   "source": [
    "# affichage table\n",
    "df_cont_a.head(2)"
   ]
  },
  {
   "cell_type": "code",
   "execution_count": null,
   "id": "7c15e977",
   "metadata": {},
   "outputs": [],
   "source": [
    "# creation graphique pour représenter la distribution des prix par categorie sans outliers\n",
    "plt.figure(figsize=(20,10))\n",
    "sns.boxplot(data=df, y='categ', x='age', orient='h', showfliers=False)\n",
    "plt.title('Distribution age par categorie')\n",
    "plt.xlabel(\"age\")\n",
    "plt.ylabel(\"Categ\")\n",
    "plt.show()\n"
   ]
  },
  {
   "cell_type": "markdown",
   "id": "5df68e09",
   "metadata": {},
   "source": [
    "### <FONT COLOR=\"#333CFF\"> Test Anova : Age Vs Catégorie </FONT>"
   ]
  },
  {
   "cell_type": "code",
   "execution_count": null,
   "id": "356c36e9",
   "metadata": {},
   "outputs": [],
   "source": [
    "# Methode Anova age vs categ\n",
    "\n",
    "def eta_squared(x,y):\n",
    "    moyenne_y = y.mean()\n",
    "    classes = []\n",
    "    for classe in x.unique():\n",
    "            \n",
    "        yi_classe = y[x==classe]\n",
    "        classes.append({'ni': len(yi_classe),\n",
    "                        'moyenne_classe': yi_classe.mean()})\n",
    "    SCT = sum([(yj-moyenne_y)**2 for yj in y])\n",
    "    SCE = sum([c['ni']*(c['moyenne_classe']-moyenne_y)**2 for c in classes])\n",
    "    return SCE/SCT\n",
    "    \n",
    "print('Valeur de correlation est de :',eta_squared(df['categ'],df['age']), 'Valeur proche de  0, donc il y à une correlation entre categ et age.' )"
   ]
  },
  {
   "cell_type": "markdown",
   "id": "823e18a5",
   "metadata": {},
   "source": [
    "## <FONT COLOR=\"#333CFF\"> Age et Panier moyen </FONT>"
   ]
  },
  {
   "cell_type": "code",
   "execution_count": null,
   "id": "d8af2b12",
   "metadata": {},
   "outputs": [],
   "source": [
    "# Creation pivot table\n",
    "df_ca_mean = df.pivot_table(index=[\"age\"], values=[\"price\"], aggfunc=['count'])\n",
    "df_ca_mean = df_ca_mean.reset_index()\n",
    "df_ca_mean.columns = df_ca_mean.columns.droplevel(1)\n"
   ]
  },
  {
   "cell_type": "code",
   "execution_count": null,
   "id": "9df8b376",
   "metadata": {},
   "outputs": [],
   "source": [
    "# affichage table\n",
    "df_ca_mean.head(2)"
   ]
  },
  {
   "cell_type": "code",
   "execution_count": null,
   "id": "d4668f04",
   "metadata": {
    "scrolled": false
   },
   "outputs": [],
   "source": [
    "# creation scatter plot\n",
    "fig = px.scatter(df_ca_mean, x='age', y='count',\n",
    " labels={\"age\": \"Âge\", \"count\": \"Taille panier moyen\"}, title=\"Taille panier moyen par âge\")\n",
    "fig.show()"
   ]
  },
  {
   "cell_type": "code",
   "execution_count": null,
   "id": "7637445d",
   "metadata": {
    "scrolled": false
   },
   "outputs": [],
   "source": [
    "# creation graphique\n",
    "fig = px.bar(df_ca_mean, x='age', y='count', template=\"plotly_white\",width=600, height=400)\n",
    "fig.update_layout(margin=dict(l=0, r=0, t=40, b=0),title={'text' : \"<b> Taille panier moyen par âge <b>\",'x':0.5,'xanchor': 'center'})\n",
    "fig.update_traces(texttemplate='%{text:.2s}', textposition='auto')\n",
    "fig.show()"
   ]
  },
  {
   "cell_type": "markdown",
   "id": "c2d525c9",
   "metadata": {},
   "source": [
    "### <FONT COLOR=\"#333CFF\"> Test Spearman : Âge Vs Taille Panier Moyen </FONT>"
   ]
  },
  {
   "cell_type": "code",
   "execution_count": null,
   "id": "fa936ef9",
   "metadata": {},
   "outputs": [],
   "source": [
    "# spearman test\n",
    "data1 = df_ca_mean['count']\n",
    "data2 = df_ca_mean['age']\n",
    "coef, p = spearmanr(data1, data2)\n",
    "print('Spearmans correlation coefficient: %.3f' % coef)\n",
    "# interpret the significance\n",
    "alpha = 0.05\n",
    "if p > alpha:\n",
    " print('Il n y a pas de correlation (pas de rejete H0) p=%.3f' % p)\n",
    "else:\n",
    " print('Il y a une correlation (rejet H0) p=%.3f' % p)"
   ]
  },
  {
   "cell_type": "markdown",
   "id": "3af55f4b",
   "metadata": {},
   "source": [
    "## <FONT COLOR=\"#333CFF\"> Fréquence achats et Age </FONT>"
   ]
  },
  {
   "cell_type": "code",
   "execution_count": null,
   "id": "c400a296",
   "metadata": {},
   "outputs": [],
   "source": [
    "df_ca_mean_1 = df.pivot_table(index=[\"client_id\",'age'], values=[\"date\"], aggfunc=['count'])\n",
    "df_ca_mean_1 = df_ca_mean_1.reset_index()\n",
    "df_ca_mean_1.columns = df_ca_mean_1.columns.droplevel(1)"
   ]
  },
  {
   "cell_type": "code",
   "execution_count": null,
   "id": "e2ec8f97",
   "metadata": {},
   "outputs": [],
   "source": [
    "df_ca_mean_1.head(3)"
   ]
  },
  {
   "cell_type": "code",
   "execution_count": null,
   "id": "1c997570",
   "metadata": {},
   "outputs": [],
   "source": [
    "plt.figure(figsize=(16,4))\n",
    "sns.boxplot(\n",
    "    data=df_ca_mean_1 ,\n",
    "    y='count', x='age', showfliers=False)\n",
    "plt.xticks(rotation=90)\n",
    "plt.title('Distribution des fréquences achat, par âge')\n",
    "plt.show()"
   ]
  },
  {
   "cell_type": "code",
   "execution_count": null,
   "id": "aa2d13d7",
   "metadata": {
    "scrolled": false
   },
   "outputs": [],
   "source": [
    "# creation scatter plot\n",
    "fig = px.scatter(x=df_ca_mean_1['age'], y=df_ca_mean_1['count'])\n",
    "fig.show()"
   ]
  },
  {
   "cell_type": "markdown",
   "id": "d1bde287",
   "metadata": {},
   "source": [
    "### <FONT COLOR=\"#333CFF\"> Test Spearman : Age Vs Fréquence Achats </FONT>"
   ]
  },
  {
   "cell_type": "code",
   "execution_count": null,
   "id": "8afd9e80",
   "metadata": {},
   "outputs": [],
   "source": [
    "# spearman test\n",
    "data1 = df_ca_mean_1['count']\n",
    "data2 = df_ca_mean_1['age']\n",
    "coef, p = spearmanr(data1, data2)\n",
    "print('Spearmans correlation coefficient: %.3f' % coef)\n",
    "# interpret the significance\n",
    "alpha = 0.05\n",
    "if p > alpha:\n",
    " print('Il n y a pas de correlation (pas de rejete H0) p=%.3f' % p)\n",
    "else:\n",
    " print('Il y a une correlation (rejet H0)  p=%.3f' % p)"
   ]
  }
 ],
 "metadata": {
  "kernelspec": {
   "display_name": "Python 3 (ipykernel)",
   "language": "python",
   "name": "python3"
  },
  "language_info": {
   "codemirror_mode": {
    "name": "ipython",
    "version": 3
   },
   "file_extension": ".py",
   "mimetype": "text/x-python",
   "name": "python",
   "nbconvert_exporter": "python",
   "pygments_lexer": "ipython3",
   "version": "3.9.13"
  }
 },
 "nbformat": 4,
 "nbformat_minor": 5
}
