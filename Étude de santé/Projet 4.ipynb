{
 "cells": [
  {
   "cell_type": "markdown",
   "id": "db03dea6",
   "metadata": {},
   "source": [
    "# FAO : Etude de santé publique\n",
    "**Import**\n",
    " - <a href=\"#C2\"> Import des librairies et des données </a> \n",
    " \n",
    "**Requêtes  de Marc**\n",
    "\n",
    " - <a href='#C3'> Proportion de personnes en état de sous-nutrition </a>\n",
    " - <a href='#C4'> Nombre théorique de personnes qui pourraient être nourries </a>\n",
    " - <a href='#C5'> Nombre théorique de personnes qui pourraient être nourries avec produits d'origine vegetale </a>\n",
    " - <a href='#C6'> Utilisation de la disponibilité intérieure </a>\n",
    "\n",
    "**Requêtes de Mélanie**\n",
    "\n",
    "- <a href='#C7'> Pays pour lesquels la nombre de personnes sous-alimentées est la plus forte en 2017 </a>\n",
    "- <a href='#C8'> Pays qui ont le plus bénéficié d’aide depuis 2013 </a>\n",
    "- <a href='#C9'> Pays ayant le plus/le moins de disponibilité/habitant </a>\n",
    "\n",
    "**Requêtes de Julien**\n",
    "- <a href='#C10'> Utilisation des céréales </a>\n",
    "- <a href='#C11'> Utilisation de manioc par la Thaïlande </a>\n"
   ]
  },
  {
   "cell_type": "markdown",
   "id": "d22265a5",
   "metadata": {},
   "source": [
    "##  <a name=\"C2\"> Import des librairies et des données  </a>"
   ]
  },
  {
   "cell_type": "code",
   "execution_count": 1,
   "id": "023f38cb",
   "metadata": {},
   "outputs": [],
   "source": [
    "import pandas as pd\n",
    "import numpy as np\n",
    "import matplotlib.pyplot as plt\n",
    "import seaborn as sns"
   ]
  },
  {
   "cell_type": "code",
   "execution_count": 2,
   "id": "9b68b91d",
   "metadata": {},
   "outputs": [],
   "source": [
    "prc = 'C:/Users/Zacca/Projet4/'"
   ]
  },
  {
   "cell_type": "code",
   "execution_count": 3,
   "id": "cfe8cf75",
   "metadata": {},
   "outputs": [],
   "source": [
    "# importation tableau csv\n",
    "aide_alimentaire = pd.read_csv(prc + 'aide_alimentaire.csv')\n",
    "dispo_alimentaire = pd.read_csv(prc + 'dispo_alimentaire.csv')\n",
    "population = pd.read_csv(prc + 'population.csv')\n",
    "sous_nutrition = pd.read_csv(prc+ 'sous_nutrition.csv')"
   ]
  },
  {
   "cell_type": "code",
   "execution_count": 4,
   "id": "d373140c",
   "metadata": {},
   "outputs": [],
   "source": [
    "# transformation nom colonnes\n",
    "aide_alimentaire = aide_alimentaire.rename(columns={'Pays bénéficiaire' : 'Pays'})\n",
    "dispo_alimentaire = dispo_alimentaire.rename(columns={'Zone' : 'Pays'})\n",
    "population = population.rename(columns={'Zone' : 'Pays'})\n",
    "sous_nutrition = sous_nutrition.rename(columns={'Zone' : 'Pays'})"
   ]
  },
  {
   "cell_type": "markdown",
   "id": "ebc4645a",
   "metadata": {},
   "source": [
    "## <a name=\"C3\"> Proportion de personnes en état de sous-nutrition </a>"
   ]
  },
  {
   "cell_type": "code",
   "execution_count": 5,
   "id": "9e9e1abd",
   "metadata": {},
   "outputs": [],
   "source": [
    "# Remplacer les dates dans la table sous_nutrition\n",
    "sous_nutrition['Année'] = sous_nutrition['Année'].replace({'2012-2014' : '2013','2013-2015' : '2014','2014-2016' : '2015','2015-2017' : '2016','2016-2018' : '2017','2017-2019' : '2018'})"
   ]
  },
  {
   "cell_type": "code",
   "execution_count": 6,
   "id": "0eafd01c",
   "metadata": {},
   "outputs": [],
   "source": [
    "# remplacer valeur NaN avec des 0 et les valeurs <0.1 en 0 et transformation de la colonne valeur en numerique\n",
    "sous_nutrition.replace('<0.1', 0, inplace=True)"
   ]
  },
  {
   "cell_type": "code",
   "execution_count": 7,
   "id": "0e407e9b",
   "metadata": {},
   "outputs": [],
   "source": [
    "sous_nutrition.fillna('0', inplace=True)"
   ]
  },
  {
   "cell_type": "code",
   "execution_count": 8,
   "id": "f942dd53",
   "metadata": {},
   "outputs": [],
   "source": [
    "sous_nutrition['Valeur']=pd.to_numeric(sous_nutrition['Valeur'])"
   ]
  },
  {
   "cell_type": "code",
   "execution_count": 9,
   "id": "12301838",
   "metadata": {},
   "outputs": [],
   "source": [
    "# Filtrer valeur du 2017\n",
    "sous_nutrition_2017 = sous_nutrition[sous_nutrition['Année'] == '2017']"
   ]
  },
  {
   "cell_type": "code",
   "execution_count": 14,
   "id": "d1c24176",
   "metadata": {},
   "outputs": [
    {
     "data": {
      "text/plain": [
       "535700000.00000006"
      ]
     },
     "execution_count": 14,
     "metadata": {},
     "output_type": "execute_result"
    }
   ],
   "source": [
    "# Calcul numero total population en sous nutrition\n",
    "sous_nutrition_total = sous_nutrition_2017['Valeur'].sum()*1000000\n",
    "sous_nutrition_total"
   ]
  },
  {
   "cell_type": "code",
   "execution_count": 11,
   "id": "840d56a0",
   "metadata": {},
   "outputs": [],
   "source": [
    "# Filtrer table population resultats pour année 2017\n",
    "population_2017 = population[population['Année'] == 2017]"
   ]
  },
  {
   "cell_type": "code",
   "execution_count": 15,
   "id": "63db50a0",
   "metadata": {},
   "outputs": [
    {
     "data": {
      "text/plain": [
       "7548134111.000001"
      ]
     },
     "execution_count": 15,
     "metadata": {},
     "output_type": "execute_result"
    }
   ],
   "source": [
    "# Calcul population total en 2017\n",
    "population_total_2017 = population_2017['Valeur'].sum()*1000\n",
    "population_total_2017"
   ]
  },
  {
   "cell_type": "code",
   "execution_count": 13,
   "id": "81ecc7eb",
   "metadata": {},
   "outputs": [],
   "source": [
    "# proportion entre population total et popoltion en sous nutrition\n",
    "proportion_pourcentage = round((sous_nutrition_total/population_total_2017)*100,2)"
   ]
  },
  {
   "cell_type": "code",
   "execution_count": 86,
   "id": "4e75bd7c",
   "metadata": {},
   "outputs": [
    {
     "name": "stdout",
     "output_type": "stream",
     "text": [
      "La pourcentage des personnes sous-nourries par rapport a la popolation mondiale est de: 7.1 % en 2017\n"
     ]
    }
   ],
   "source": [
    "# reponse question 1\n",
    "print('La pourcentage des personnes sous-nourries par rapport a la popolation mondiale est de:', proportion_pourcentage, '% en 2017')"
   ]
  },
  {
   "cell_type": "markdown",
   "id": "f002859f",
   "metadata": {},
   "source": [
    "## <a name=\"C4\"> Nombre théorique de personnes qui pourraient être nourries </a>"
   ]
  },
  {
   "cell_type": "code",
   "execution_count": 87,
   "id": "f5cc895b",
   "metadata": {},
   "outputs": [],
   "source": [
    "# remplacer valeurs NaN\n",
    "dispo_alimentaire.fillna('0', inplace = True)"
   ]
  },
  {
   "cell_type": "code",
   "execution_count": 88,
   "id": "b6f25e08",
   "metadata": {},
   "outputs": [],
   "source": [
    "# modifier valeurs dans colonne Disponibilité alimentaire (Kcal/personne/jour) en valeurs numeriques\n",
    "dispo_alimentaire['Disponibilité alimentaire (Kcal/personne/jour)'] = pd.to_numeric(dispo_alimentaire['Disponibilité alimentaire (Kcal/personne/jour)'])"
   ]
  },
  {
   "cell_type": "code",
   "execution_count": 89,
   "id": "9888f622",
   "metadata": {},
   "outputs": [],
   "source": [
    "# merge entre les tables dispo_alimentaire et population avec 'Zone' comme index\n",
    "table_alimentaire_population = pd.merge(dispo_alimentaire, population_2017, on='Pays')"
   ]
  },
  {
   "cell_type": "code",
   "execution_count": 90,
   "id": "b58c7939",
   "metadata": {},
   "outputs": [],
   "source": [
    "# calcul disponibilité alimentaire en kcal multiplié par la population\n",
    "Somme_disponibilite = table_alimentaire_population['Disponibilité alimentaire (Kcal/personne/jour)']*table_alimentaire_population['Valeur']"
   ]
  },
  {
   "cell_type": "code",
   "execution_count": 91,
   "id": "1a702bdd",
   "metadata": {},
   "outputs": [],
   "source": [
    "# calcul nombre theorique peuvent etre nourris\n",
    "nombre_personnes_nourris = (np.sum(Somme_disponibilite)/2400)*1000"
   ]
  },
  {
   "cell_type": "code",
   "execution_count": 92,
   "id": "6b530772",
   "metadata": {},
   "outputs": [
    {
     "name": "stdout",
     "output_type": "stream",
     "text": [
      "Nombre théorique de personnes qui pourraient être nourries :  8716243595 de personnes\n",
      "Pourcentage des personnes qui peuvent etre nourris 115.48 %\n"
     ]
    }
   ],
   "source": [
    "print('Nombre théorique de personnes qui pourraient être nourries : ',round(nombre_personnes_nourris), 'de personnes')\n",
    "# Calcul pourcentage\n",
    "pourcentage_personnes_nourris =((nombre_personnes_nourris)/(population_total_2017)*100)\n",
    "print('Pourcentage des personnes qui peuvent etre nourris', round(pourcentage_personnes_nourris,2), '%')"
   ]
  },
  {
   "cell_type": "markdown",
   "id": "3e65a1d0",
   "metadata": {},
   "source": [
    "## <a name=\"C5\"> Nombre théorique de personnes qui pourraient être nourries avec produits d'origine vegetale </a>"
   ]
  },
  {
   "cell_type": "code",
   "execution_count": 93,
   "id": "68ad22dc",
   "metadata": {},
   "outputs": [],
   "source": [
    "# Filtrer le valeur d'origine vegetale dans la table_alimentaire_population\n",
    "table_alimentaire_population_vegetale = table_alimentaire_population.loc[table_alimentaire_population['Origine'] == 'vegetale']"
   ]
  },
  {
   "cell_type": "code",
   "execution_count": 94,
   "id": "3f5866a2",
   "metadata": {},
   "outputs": [],
   "source": [
    "# calcul disponibilité alimentaire en kcal multiplié par la population\n",
    "Somme_disponibilite_vegetale = table_alimentaire_population_vegetale['Disponibilité alimentaire (Kcal/personne/jour)']*table_alimentaire_population_vegetale['Valeur']"
   ]
  },
  {
   "cell_type": "code",
   "execution_count": 95,
   "id": "620937f6",
   "metadata": {},
   "outputs": [],
   "source": [
    "# calcul nombre theorique peuvent etre nourris avec des produits vegetales\n",
    "nombre_personnes_nourris_vegetale = (np.sum(Somme_disponibilite_vegetale)/2400)*1000"
   ]
  },
  {
   "cell_type": "code",
   "execution_count": 96,
   "id": "05e1a4b7",
   "metadata": {
    "scrolled": true
   },
   "outputs": [
    {
     "name": "stdout",
     "output_type": "stream",
     "text": [
      "Nombre théorique de personnes qui pourraient être nourries avec produit vegetales :  7191985088 de personnes\n",
      "Pourcentage des personnes qui peuvent etre nourris, par rapport a la population mondiale 95.28 %\n"
     ]
    }
   ],
   "source": [
    "print('Nombre théorique de personnes qui pourraient être nourries avec produit vegetales : ',round(nombre_personnes_nourris_vegetale), 'de personnes')\n",
    "# Calcul pourcentage vegetale\n",
    "pourcentage_personnes_nourris_vegetale =((nombre_personnes_nourris_vegetale)/(population_total_2017)*100)\n",
    "print('Pourcentage des personnes qui peuvent etre nourris, par rapport a la population mondiale', round(pourcentage_personnes_nourris_vegetale,2), '%')"
   ]
  },
  {
   "cell_type": "markdown",
   "id": "2b336c6d",
   "metadata": {},
   "source": [
    "## <a name=\"C6\"> Utilisation de la disponibilité intérieure </a>"
   ]
  },
  {
   "cell_type": "code",
   "execution_count": 97,
   "id": "cc9ba77a",
   "metadata": {},
   "outputs": [],
   "source": [
    "# Transformer valeurs mixe entre str et float en valeur numeriques\n",
    "table_alimentaire_population['Disponibilité intérieure'] = pd.to_numeric(table_alimentaire_population['Disponibilité intérieure'])\n",
    "table_alimentaire_population['Nourriture'] = pd.to_numeric(table_alimentaire_population['Nourriture'])\n",
    "table_alimentaire_population['Pertes'] = pd.to_numeric(table_alimentaire_population['Pertes'])\n",
    "table_alimentaire_population['Aliments pour animaux'] = pd.to_numeric(table_alimentaire_population['Aliments pour animaux'])\n",
    "table_alimentaire_population['Autres Utilisations'] = pd.to_numeric(table_alimentaire_population['Autres Utilisations'])\n",
    "table_alimentaire_population['Traitement'] = pd.to_numeric(table_alimentaire_population['Traitement'])\n",
    "table_alimentaire_population['Semences'] = pd.to_numeric(table_alimentaire_population['Semences'])"
   ]
  },
  {
   "cell_type": "code",
   "execution_count": 98,
   "id": "3e8a87c3",
   "metadata": {},
   "outputs": [],
   "source": [
    "# calcul total disponibilite interieur total\n",
    "dispo_alimentaire_interieur_total = np.sum(table_alimentaire_population['Disponibilité intérieure'])"
   ]
  },
  {
   "cell_type": "code",
   "execution_count": 99,
   "id": "5acdc993",
   "metadata": {},
   "outputs": [],
   "source": [
    "# calcul total nourriture, pertes, aliments pour animaux, autres utilisation\n",
    "dispo_alimentaire_nourriture_total = np.sum(table_alimentaire_population['Nourriture'])\n",
    "dispo_alimentaire_pertes_total = np.sum(table_alimentaire_population['Pertes'])\n",
    "dispo_alimentaire_aliments_animaux_total = np.sum(table_alimentaire_population['Aliments pour animaux'])\n",
    "dispo_alimentaire_autre_utilisation_total = np.sum(table_alimentaire_population['Autres Utilisations'])\n",
    "dispo_alimentaire_traitement_total = np.sum(table_alimentaire_population['Traitement'])\n",
    "dispo_alimentaire_semences_total = np.sum(table_alimentaire_population['Semences'])"
   ]
  },
  {
   "cell_type": "code",
   "execution_count": 100,
   "id": "62456d2f",
   "metadata": {},
   "outputs": [],
   "source": [
    "# calcul pourcentage pour chaque categorie\n",
    "pourc_nourriture = round((dispo_alimentaire_nourriture_total / dispo_alimentaire_interieur_total)*100,2)\n",
    "pourc_pertes = round((dispo_alimentaire_pertes_total / dispo_alimentaire_interieur_total)*100,2)\n",
    "pourc_aliments_animaux = round((dispo_alimentaire_aliments_animaux_total / dispo_alimentaire_interieur_total)*100,2)\n",
    "pourc_autre_utilisation = round((dispo_alimentaire_autre_utilisation_total / dispo_alimentaire_interieur_total)*100,2)\n",
    "pourc_traitement = round((dispo_alimentaire_traitement_total / dispo_alimentaire_interieur_total)*100,2)\n",
    "pourc_semences = round((dispo_alimentaire_semences_total / dispo_alimentaire_interieur_total)*100,2)"
   ]
  },
  {
   "cell_type": "code",
   "execution_count": 101,
   "id": "f0fd301b",
   "metadata": {},
   "outputs": [
    {
     "data": {
      "text/plain": [
       "100.1"
      ]
     },
     "execution_count": 101,
     "metadata": {},
     "output_type": "execute_result"
    }
   ],
   "source": [
    "# calcul pourcentages total\n",
    "pourc_total = pourc_nourriture + pourc_pertes + pourc_aliments_animaux + pourc_autre_utilisation + pourc_traitement + pourc_semences\n",
    "pourc_total"
   ]
  },
  {
   "cell_type": "code",
   "execution_count": 102,
   "id": "9c7cbfca",
   "metadata": {},
   "outputs": [
    {
     "data": {
      "image/png": "[encoded data removed]",
      "text/plain": [
       "<Figure size 640x480 with 1 Axes>"
      ]
     },
     "metadata": {},
     "output_type": "display_data"
    }
   ],
   "source": [
    "# creation variable\n",
    "df_pie = [pourc_nourriture, pourc_pertes, pourc_aliments_animaux, pourc_autre_utilisation, pourc_traitement, pourc_semences]\n",
    "label = ['Nourriture','Pertes','Aliments animaux', 'Autre utilisation','Traitement','Semences']\n",
    "# creation graphique\n",
    "plt.title('Utilisation disponibilitées alimentaires interieur en 2017')\n",
    "plt.pie(df_pie, labels = label, autopct= '%1.1f%%' )\n",
    "plt.show()"
   ]
  },
  {
   "cell_type": "markdown",
   "id": "a3cff3d2",
   "metadata": {},
   "source": [
    "## <a name=\"C7\">  Pays pour lesquels la proportion de personnes sous-alimentées est la plus forte en 2017 </a>"
   ]
  },
  {
   "cell_type": "code",
   "execution_count": 103,
   "id": "5c5d0c5b",
   "metadata": {},
   "outputs": [],
   "source": [
    "# creation deux pivot table pour table population et sous nutrition pour pouvoir les merger\n",
    "population_grouped = population_2017.pivot_table(index='Pays',values='Valeur', aggfunc='sum')\n",
    "sous_nutri_grouped = sous_nutrition_2017.pivot_table(index='Pays',values='Valeur', aggfunc='sum')"
   ]
  },
  {
   "cell_type": "code",
   "execution_count": 104,
   "id": "12f4d470",
   "metadata": {},
   "outputs": [],
   "source": [
    "# merge entre la table population et sous nutrition\n",
    "table_population_sous_nutri = pd.merge(population_grouped, sous_nutri_grouped, on='Pays')"
   ]
  },
  {
   "cell_type": "code",
   "execution_count": 105,
   "id": "aff0bd69",
   "metadata": {},
   "outputs": [
    {
     "data": {
      "text/html": [
       "<div>\n",
       "<style scoped>\n",
       "    .dataframe tbody tr th:only-of-type {\n",
       "        vertical-align: middle;\n",
       "    }\n",
       "\n",
       "    .dataframe tbody tr th {\n",
       "        vertical-align: top;\n",
       "    }\n",
       "\n",
       "    .dataframe thead th {\n",
       "        text-align: right;\n",
       "    }\n",
       "</style>\n",
       "<table border=\"1\" class=\"dataframe\">\n",
       "  <thead>\n",
       "    <tr style=\"text-align: right;\">\n",
       "      <th></th>\n",
       "      <th>Rapport</th>\n",
       "    </tr>\n",
       "    <tr>\n",
       "      <th>Pays</th>\n",
       "      <th></th>\n",
       "    </tr>\n",
       "  </thead>\n",
       "  <tbody>\n",
       "    <tr>\n",
       "      <th>Haïti</th>\n",
       "      <td>48.26</td>\n",
       "    </tr>\n",
       "    <tr>\n",
       "      <th>République populaire démocratique de Corée</th>\n",
       "      <td>47.19</td>\n",
       "    </tr>\n",
       "    <tr>\n",
       "      <th>Madagascar</th>\n",
       "      <td>41.06</td>\n",
       "    </tr>\n",
       "    <tr>\n",
       "      <th>Libéria</th>\n",
       "      <td>38.28</td>\n",
       "    </tr>\n",
       "    <tr>\n",
       "      <th>Lesotho</th>\n",
       "      <td>38.25</td>\n",
       "    </tr>\n",
       "    <tr>\n",
       "      <th>Tchad</th>\n",
       "      <td>37.96</td>\n",
       "    </tr>\n",
       "    <tr>\n",
       "      <th>Rwanda</th>\n",
       "      <td>35.06</td>\n",
       "    </tr>\n",
       "    <tr>\n",
       "      <th>Mozambique</th>\n",
       "      <td>32.81</td>\n",
       "    </tr>\n",
       "    <tr>\n",
       "      <th>Timor-Leste</th>\n",
       "      <td>32.17</td>\n",
       "    </tr>\n",
       "    <tr>\n",
       "      <th>Afghanistan</th>\n",
       "      <td>28.93</td>\n",
       "    </tr>\n",
       "  </tbody>\n",
       "</table>\n",
       "</div>"
      ],
      "text/plain": [
       "                                            Rapport\n",
       "Pays                                               \n",
       "Haïti                                         48.26\n",
       "République populaire démocratique de Corée    47.19\n",
       "Madagascar                                    41.06\n",
       "Libéria                                       38.28\n",
       "Lesotho                                       38.25\n",
       "Tchad                                         37.96\n",
       "Rwanda                                        35.06\n",
       "Mozambique                                    32.81\n",
       "Timor-Leste                                   32.17\n",
       "Afghanistan                                   28.93"
      ]
     },
     "execution_count": 105,
     "metadata": {},
     "output_type": "execute_result"
    }
   ],
   "source": [
    "# rapport entre population et population sous nutrition\n",
    "table_population_sous_nutri['Rapport'] = ((table_population_sous_nutri['Valeur_y']*1000000)/(table_population_sous_nutri['Valeur_x']*1000))*100\n",
    "table_population_sous_nutri_sorted = table_population_sous_nutri.sort_values(by = 'Rapport', ascending = False)\n",
    "table_population_sous_nutri_sorted['Rapport'] = round(table_population_sous_nutri_sorted['Rapport'],2)\n",
    "table_population_sous_nutri_sorted.pop('Valeur_x')\n",
    "table_population_sous_nutri_sorted.pop('Valeur_y')\n",
    "table_population_sous_nutri_sorted.head(10)"
   ]
  },
  {
   "cell_type": "markdown",
   "id": "8b55c0d7",
   "metadata": {},
   "source": [
    "## <a name=\"C8\"> Pays qui ont le plus bénéficié d’aide depuis 2013 </a>"
   ]
  },
  {
   "cell_type": "code",
   "execution_count": 106,
   "id": "405c7f1c",
   "metadata": {},
   "outputs": [],
   "source": [
    "# transformation variable Annee en variable numerique\n",
    "aide_alimentaire['Année']= pd.to_numeric(aide_alimentaire['Année'])"
   ]
  },
  {
   "cell_type": "code",
   "execution_count": 107,
   "id": "61e6e4b6",
   "metadata": {},
   "outputs": [],
   "source": [
    "# filtrer les variables apres 2013\n",
    "aide_alimentaire_2013 = aide_alimentaire.loc[aide_alimentaire['Année'] >= 2013]"
   ]
  },
  {
   "cell_type": "code",
   "execution_count": 108,
   "id": "281b3434",
   "metadata": {},
   "outputs": [],
   "source": [
    "# groupement par pays\n",
    "aide_alimentaire_2013 = aide_alimentaire_2013.groupby('Pays').sum()"
   ]
  },
  {
   "cell_type": "code",
   "execution_count": 109,
   "id": "8c37a93e",
   "metadata": {},
   "outputs": [],
   "source": [
    "# sort by pour mettre en ordre decroissant les donnees\n",
    "aide_alimentaire_2013 = aide_alimentaire_2013.sort_values(by = 'Valeur', ascending = False)"
   ]
  },
  {
   "cell_type": "code",
   "execution_count": 110,
   "id": "b7b03c8b",
   "metadata": {},
   "outputs": [
    {
     "data": {
      "text/html": [
       "<div>\n",
       "<style scoped>\n",
       "    .dataframe tbody tr th:only-of-type {\n",
       "        vertical-align: middle;\n",
       "    }\n",
       "\n",
       "    .dataframe tbody tr th {\n",
       "        vertical-align: top;\n",
       "    }\n",
       "\n",
       "    .dataframe thead th {\n",
       "        text-align: right;\n",
       "    }\n",
       "</style>\n",
       "<table border=\"1\" class=\"dataframe\">\n",
       "  <thead>\n",
       "    <tr style=\"text-align: right;\">\n",
       "      <th></th>\n",
       "      <th>Valeur</th>\n",
       "    </tr>\n",
       "    <tr>\n",
       "      <th>Pays</th>\n",
       "      <th></th>\n",
       "    </tr>\n",
       "  </thead>\n",
       "  <tbody>\n",
       "    <tr>\n",
       "      <th>République arabe syrienne</th>\n",
       "      <td>1858943</td>\n",
       "    </tr>\n",
       "    <tr>\n",
       "      <th>Éthiopie</th>\n",
       "      <td>1381294</td>\n",
       "    </tr>\n",
       "    <tr>\n",
       "      <th>Yémen</th>\n",
       "      <td>1206484</td>\n",
       "    </tr>\n",
       "    <tr>\n",
       "      <th>Soudan du Sud</th>\n",
       "      <td>695248</td>\n",
       "    </tr>\n",
       "    <tr>\n",
       "      <th>Soudan</th>\n",
       "      <td>669784</td>\n",
       "    </tr>\n",
       "  </tbody>\n",
       "</table>\n",
       "</div>"
      ],
      "text/plain": [
       "                            Valeur\n",
       "Pays                              \n",
       "République arabe syrienne  1858943\n",
       "Éthiopie                   1381294\n",
       "Yémen                      1206484\n",
       "Soudan du Sud               695248\n",
       "Soudan                      669784"
      ]
     },
     "execution_count": 110,
     "metadata": {},
     "output_type": "execute_result"
    }
   ],
   "source": [
    "# creation variable pour preparer les donnees pour le graphique\n",
    "\n",
    "aide_alimentaire_2013_sorted = aide_alimentaire_2013.head(5)\n",
    "aide_alimentaire_2013.pop('Année')\n",
    "aide_alimentaire_2013.head(5)\n"
   ]
  },
  {
   "cell_type": "code",
   "execution_count": 111,
   "id": "6a1aa95b",
   "metadata": {
    "scrolled": false
   },
   "outputs": [
    {
     "data": {
      "image/png": "[encoded data removed]",
      "text/plain": [
       "<Figure size 640x480 with 1 Axes>"
      ]
     },
     "metadata": {},
     "output_type": "display_data"
    }
   ],
   "source": [
    "# creation title graphique\n",
    "plt.title('Pays qui ont plus bénéficié aides alimentaires depuis 2013')\n",
    "plt.xlabel('Tonnes d aides alimentaires')\n",
    "# creation graphique\n",
    "sns.barplot(data=aide_alimentaire_2013_sorted, x='Valeur',y=aide_alimentaire_2013_sorted.index, ci=None,estimator=np.sum)\n",
    "plt.xlabel('Tonnes')\n",
    "plt.show()"
   ]
  },
  {
   "cell_type": "markdown",
   "id": "fd8b7663",
   "metadata": {},
   "source": [
    "## <a name=\"C9\"> Pays ayant le plus/le moins de disponibilité/habitant </a>"
   ]
  },
  {
   "cell_type": "code",
   "execution_count": 112,
   "id": "3b791cf3",
   "metadata": {},
   "outputs": [],
   "source": [
    "# pivoter table alimentaire et population\n",
    "table_population_pivot = table_alimentaire_population.pivot_table(index='Pays', values='Disponibilité alimentaire (Kcal/personne/jour)', aggfunc='sum')"
   ]
  },
  {
   "cell_type": "code",
   "execution_count": 113,
   "id": "a771b0ea",
   "metadata": {
    "scrolled": true
   },
   "outputs": [
    {
     "data": {
      "text/html": [
       "<div>\n",
       "<style scoped>\n",
       "    .dataframe tbody tr th:only-of-type {\n",
       "        vertical-align: middle;\n",
       "    }\n",
       "\n",
       "    .dataframe tbody tr th {\n",
       "        vertical-align: top;\n",
       "    }\n",
       "\n",
       "    .dataframe thead th {\n",
       "        text-align: right;\n",
       "    }\n",
       "</style>\n",
       "<table border=\"1\" class=\"dataframe\">\n",
       "  <thead>\n",
       "    <tr style=\"text-align: right;\">\n",
       "      <th></th>\n",
       "      <th>Disponibilité alimentaire/habitant</th>\n",
       "    </tr>\n",
       "    <tr>\n",
       "      <th>Pays</th>\n",
       "      <th></th>\n",
       "    </tr>\n",
       "  </thead>\n",
       "  <tbody>\n",
       "    <tr>\n",
       "      <th>Autriche</th>\n",
       "      <td>3770.0</td>\n",
       "    </tr>\n",
       "    <tr>\n",
       "      <th>Belgique</th>\n",
       "      <td>3737.0</td>\n",
       "    </tr>\n",
       "    <tr>\n",
       "      <th>Turquie</th>\n",
       "      <td>3708.0</td>\n",
       "    </tr>\n",
       "    <tr>\n",
       "      <th>États-Unis d'Amérique</th>\n",
       "      <td>3682.0</td>\n",
       "    </tr>\n",
       "    <tr>\n",
       "      <th>Israël</th>\n",
       "      <td>3610.0</td>\n",
       "    </tr>\n",
       "  </tbody>\n",
       "</table>\n",
       "</div>"
      ],
      "text/plain": [
       "                       Disponibilité alimentaire/habitant\n",
       "Pays                                                     \n",
       "Autriche                                           3770.0\n",
       "Belgique                                           3737.0\n",
       "Turquie                                            3708.0\n",
       "États-Unis d'Amérique                              3682.0\n",
       "Israël                                             3610.0"
      ]
     },
     "execution_count": 113,
     "metadata": {},
     "output_type": "execute_result"
    }
   ],
   "source": [
    "table_population_pivot_sorted = table_population_pivot.sort_values(by='Disponibilité alimentaire (Kcal/personne/jour)', ascending = False)\n",
    "table_population_pivot_sorted.rename(columns={'Disponibilité alimentaire (Kcal/personne/jour)' : 'Disponibilité alimentaire/habitant'}, inplace = True)\n",
    "table_population_pivot_sorted.head(5)\n"
   ]
  },
  {
   "cell_type": "code",
   "execution_count": 114,
   "id": "d957d35b",
   "metadata": {},
   "outputs": [
    {
     "data": {
      "text/html": [
       "<div>\n",
       "<style scoped>\n",
       "    .dataframe tbody tr th:only-of-type {\n",
       "        vertical-align: middle;\n",
       "    }\n",
       "\n",
       "    .dataframe tbody tr th {\n",
       "        vertical-align: top;\n",
       "    }\n",
       "\n",
       "    .dataframe thead th {\n",
       "        text-align: right;\n",
       "    }\n",
       "</style>\n",
       "<table border=\"1\" class=\"dataframe\">\n",
       "  <thead>\n",
       "    <tr style=\"text-align: right;\">\n",
       "      <th></th>\n",
       "      <th>Disponibilité alimentaire/habitant</th>\n",
       "    </tr>\n",
       "    <tr>\n",
       "      <th>Pays</th>\n",
       "      <th></th>\n",
       "    </tr>\n",
       "  </thead>\n",
       "  <tbody>\n",
       "    <tr>\n",
       "      <th>République centrafricaine</th>\n",
       "      <td>1879.0</td>\n",
       "    </tr>\n",
       "    <tr>\n",
       "      <th>Zambie</th>\n",
       "      <td>1924.0</td>\n",
       "    </tr>\n",
       "    <tr>\n",
       "      <th>Madagascar</th>\n",
       "      <td>2056.0</td>\n",
       "    </tr>\n",
       "    <tr>\n",
       "      <th>Afghanistan</th>\n",
       "      <td>2087.0</td>\n",
       "    </tr>\n",
       "    <tr>\n",
       "      <th>Haïti</th>\n",
       "      <td>2089.0</td>\n",
       "    </tr>\n",
       "  </tbody>\n",
       "</table>\n",
       "</div>"
      ],
      "text/plain": [
       "                           Disponibilité alimentaire/habitant\n",
       "Pays                                                         \n",
       "République centrafricaine                              1879.0\n",
       "Zambie                                                 1924.0\n",
       "Madagascar                                             2056.0\n",
       "Afghanistan                                            2087.0\n",
       "Haïti                                                  2089.0"
      ]
     },
     "execution_count": 114,
     "metadata": {},
     "output_type": "execute_result"
    }
   ],
   "source": [
    "table_population_pivot_sorted = table_population_pivot.sort_values(by='Disponibilité alimentaire (Kcal/personne/jour)', ascending = True)\n",
    "table_population_pivot_sorted.rename(columns={'Disponibilité alimentaire (Kcal/personne/jour)' : 'Disponibilité alimentaire/habitant'}, inplace = True)\n",
    "table_population_pivot_sorted.head(5)"
   ]
  },
  {
   "cell_type": "markdown",
   "id": "9c6fb574",
   "metadata": {},
   "source": [
    "## <a name=\"C10\"> Utilisation des céréales </a>\n",
    "  "
   ]
  },
  {
   "cell_type": "code",
   "execution_count": 115,
   "id": "6f5a78a7",
   "metadata": {},
   "outputs": [],
   "source": [
    "# transformation valuers colonnes en valeurs numeriques\n",
    "dispo_alimentaire['Nourriture'] = pd.to_numeric(dispo_alimentaire['Nourriture'])\n",
    "dispo_alimentaire['Aliments pour animaux'] = pd.to_numeric(dispo_alimentaire['Aliments pour animaux'])\n",
    "dispo_alimentaire['Exportations - Quantité'] = pd.to_numeric(dispo_alimentaire['Exportations - Quantité'])\n",
    "dispo_alimentaire['Production'] = pd.to_numeric(dispo_alimentaire['Production'])"
   ]
  },
  {
   "cell_type": "code",
   "execution_count": 116,
   "id": "7ab3ecc3",
   "metadata": {},
   "outputs": [],
   "source": [
    "# filtre pour trouver les cereales\n",
    "dispo_alimentaire_cereales = dispo_alimentaire.loc[dispo_alimentaire['Produit'] == 'Céréales, Autres']"
   ]
  },
  {
   "cell_type": "code",
   "execution_count": 117,
   "id": "bacae28a",
   "metadata": {},
   "outputs": [],
   "source": [
    "# calcul total entre nourriture et aliments pour animaux\n",
    "total_cereales_nour_anim = np.sum(dispo_alimentaire_cereales['Nourriture']) + np.sum(dispo_alimentaire_cereales['Aliments pour animaux'])"
   ]
  },
  {
   "cell_type": "code",
   "execution_count": 118,
   "id": "190e745f",
   "metadata": {},
   "outputs": [],
   "source": [
    "# Calcul pourcentages\n",
    "pourcentage_cereales = (np.sum(dispo_alimentaire_cereales['Nourriture']/total_cereales_nour_anim))*100\n",
    "pourcentage_animaux = (np.sum(dispo_alimentaire_cereales['Aliments pour animaux']/total_cereales_nour_anim))*100"
   ]
  },
  {
   "cell_type": "code",
   "execution_count": 119,
   "id": "baa84ffe",
   "metadata": {},
   "outputs": [
    {
     "name": "stdout",
     "output_type": "stream",
     "text": [
      "Part destinés aux humaines 21.86 %\n",
      "Part destinés aux animaux 78.14 %\n"
     ]
    }
   ],
   "source": [
    "# print des resultats\n",
    "print('Part destinés aux humaines', round(pourcentage_cereales,2),'%')\n",
    "print('Part destinés aux animaux', round(pourcentage_animaux,2),'%')"
   ]
  },
  {
   "cell_type": "code",
   "execution_count": 120,
   "id": "857ec23b",
   "metadata": {},
   "outputs": [],
   "source": [
    "# creation variable\n",
    "df_pie = [pourcentage_cereales, pourcentage_animaux]\n",
    "label = ['Part destinés aux humaines', 'Part destinés aux animaux']"
   ]
  },
  {
   "cell_type": "code",
   "execution_count": 121,
   "id": "0cc57e05",
   "metadata": {
    "scrolled": true
   },
   "outputs": [
    {
     "data": {
      "image/png": "[encoded data removed]",
      "text/plain": [
       "<Figure size 640x480 with 1 Axes>"
      ]
     },
     "metadata": {},
     "output_type": "display_data"
    }
   ],
   "source": [
    "# creation graphique\n",
    "plt.title('Utilisation cereales')\n",
    "plt.pie(df_pie, labels = label, autopct= '%1.1f%%' )\n",
    "plt.show()"
   ]
  },
  {
   "cell_type": "markdown",
   "id": "02124873",
   "metadata": {},
   "source": [
    "## <a name=\"C11\"> Utilisation de manioc par la Thaïlande </a>"
   ]
  },
  {
   "cell_type": "code",
   "execution_count": 122,
   "id": "179302ce",
   "metadata": {},
   "outputs": [],
   "source": [
    "# Filtre Thailandie et Manioc\n",
    "dispo_alimentaire_thai = dispo_alimentaire[dispo_alimentaire['Pays'].str.contains('Thaïlande')]\n",
    "dispo_alimentaire_thai_manioc = dispo_alimentaire_thai[dispo_alimentaire_thai['Produit'] == 'Manioc']"
   ]
  },
  {
   "cell_type": "code",
   "execution_count": 123,
   "id": "ceadd3a6",
   "metadata": {},
   "outputs": [],
   "source": [
    "# merge etre table filtre et table sous_nutrition_2017\n",
    "dispo_alimentaire_sous_nutr_manioc = pd.merge(dispo_alimentaire_thai_manioc, sous_nutrition_2017, on='Pays')"
   ]
  },
  {
   "cell_type": "code",
   "execution_count": 124,
   "id": "c5668b52",
   "metadata": {},
   "outputs": [],
   "source": [
    "# Calcul pourcentage\n",
    "pourc_export_manioc = round((dispo_alimentaire_sous_nutr_manioc['Exportations - Quantité']/dispo_alimentaire_sous_nutr_manioc['Production'])*100,2)"
   ]
  },
  {
   "cell_type": "code",
   "execution_count": 125,
   "id": "d8c2d158",
   "metadata": {},
   "outputs": [
    {
     "name": "stdout",
     "output_type": "stream",
     "text": [
      "La pourcentage de manioc exporté : 83.41 %\n"
     ]
    }
   ],
   "source": [
    "print('La pourcentage de manioc exporté :', pourc_export_manioc[0], '%')"
   ]
  },
  {
   "cell_type": "code",
   "execution_count": 126,
   "id": "069ba2eb",
   "metadata": {},
   "outputs": [],
   "source": [
    "# merge avec la table population\n",
    "dispo_alimentaire_sous_nutr_manioc = pd.merge(dispo_alimentaire_sous_nutr_manioc, population_2017, on='Pays' )"
   ]
  },
  {
   "cell_type": "code",
   "execution_count": 127,
   "id": "02af1443",
   "metadata": {},
   "outputs": [
    {
     "name": "stdout",
     "output_type": "stream",
     "text": [
      " La pourcentage de la population en sous nutrition : 8.96 %\n"
     ]
    }
   ],
   "source": [
    "# calcul pourcentage rapport entre sous nutrition et population total\n",
    "pourc_pop_sous_nutr = round((dispo_alimentaire_sous_nutr_manioc['Valeur_x']*1000000)/(dispo_alimentaire_sous_nutr_manioc['Valeur_y']*1000)*100,2)\n",
    "print(' La pourcentage de la population en sous nutrition :',pourc_pop_sous_nutr[0],'%')"
   ]
  }
 ],
 "metadata": {
  "kernelspec": {
   "display_name": "Python 3 (ipykernel)",
   "language": "python",
   "name": "python3"
  },
  "language_info": {
   "codemirror_mode": {
    "name": "ipython",
    "version": 3
   },
   "file_extension": ".py",
   "mimetype": "text/x-python",
   "name": "python",
   "nbconvert_exporter": "python",
   "pygments_lexer": "ipython3",
   "version": "3.9.13"
  }
 },
 "nbformat": 4,
 "nbformat_minor": 5
}
