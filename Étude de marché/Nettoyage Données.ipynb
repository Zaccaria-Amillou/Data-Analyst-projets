{
 "cells": [
  {
   "cell_type": "markdown",
   "id": "d3f40541",
   "metadata": {},
   "source": [
    "# Etude du marché du poulet mondiale\n",
    "##  Nettoyage des données\n",
    "\n",
    "### <a href='#T1'> 1 - Import libraries et fichirs </a>\n",
    "### <a href='#T2'> 2 - Traitement des données </a>\n",
    "- <a href='#T3'> 2.1 - Disponibilité Alimentaire </a><br>\n",
    "- <a href='#T4'> 2.2 - Population </a><br>\n",
    "- <a href='#T5'> 2.3 - Indicateurs Macro-économique </a><br>\n",
    "- <a href='#T6'> 2.4 - Stabilité politique </a><br>\n",
    "\n",
    "### <a href='#T7'>3 - Jointures </a>"
   ]
  },
  {
   "cell_type": "markdown",
   "id": "9d1685ae",
   "metadata": {},
   "source": [
    "## <a name = 'T1'> 1 - Import libraries et fichiers </a>"
   ]
  },
  {
   "cell_type": "code",
   "execution_count": 1,
   "id": "16fb3c04",
   "metadata": {},
   "outputs": [],
   "source": [
    "# import libraries\n",
    "import pandas as pd\n",
    "import numpy as np\n",
    "import matplotlib.pyplot as plt\n",
    "import seaborn as sns"
   ]
  },
  {
   "cell_type": "code",
   "execution_count": 2,
   "id": "672f3505",
   "metadata": {},
   "outputs": [],
   "source": [
    "# import fichiers\n",
    "df_alim = pd.read_csv('DisponibiliteAlimentaire_2017.csv')\n",
    "df_pib = pd.read_csv('Indicateur_macro_PIB.csv')\n",
    "df_pop = pd.read_csv('Population_2000_2018.csv')\n",
    "df_stab = pd.read_csv('Stab_pol.csv')"
   ]
  },
  {
   "cell_type": "markdown",
   "id": "e091d4f8",
   "metadata": {},
   "source": [
    "## <a name = 'T2' >  2 - Traitement des données </a> "
   ]
  },
  {
   "cell_type": "markdown",
   "id": "94806b5e",
   "metadata": {},
   "source": [
    "### <a name = 'T3'> 2.1 - Disponibilité alimentaire </a>"
   ]
  },
  {
   "cell_type": "code",
   "execution_count": 3,
   "id": "f832d4ba",
   "metadata": {},
   "outputs": [
    {
     "data": {
      "text/html": [
       "<div>\n",
       "<style scoped>\n",
       "    .dataframe tbody tr th:only-of-type {\n",
       "        vertical-align: middle;\n",
       "    }\n",
       "\n",
       "    .dataframe tbody tr th {\n",
       "        vertical-align: top;\n",
       "    }\n",
       "\n",
       "    .dataframe thead th {\n",
       "        text-align: right;\n",
       "    }\n",
       "</style>\n",
       "<table border=\"1\" class=\"dataframe\">\n",
       "  <thead>\n",
       "    <tr style=\"text-align: right;\">\n",
       "      <th></th>\n",
       "      <th>Code Domaine</th>\n",
       "      <th>Domaine</th>\n",
       "      <th>Code zone</th>\n",
       "      <th>Zone</th>\n",
       "      <th>Code Élément</th>\n",
       "      <th>Élément</th>\n",
       "      <th>Code Produit</th>\n",
       "      <th>Produit</th>\n",
       "      <th>Code année</th>\n",
       "      <th>Année</th>\n",
       "      <th>Unité</th>\n",
       "      <th>Valeur</th>\n",
       "      <th>Symbole</th>\n",
       "      <th>Description du Symbole</th>\n",
       "    </tr>\n",
       "  </thead>\n",
       "  <tbody>\n",
       "    <tr>\n",
       "      <th>0</th>\n",
       "      <td>FBS</td>\n",
       "      <td>Nouveaux Bilans Alimentaire</td>\n",
       "      <td>2</td>\n",
       "      <td>Afghanistan</td>\n",
       "      <td>5511</td>\n",
       "      <td>Production</td>\n",
       "      <td>2511</td>\n",
       "      <td>Blé et produits</td>\n",
       "      <td>2017</td>\n",
       "      <td>2017</td>\n",
       "      <td>Milliers de tonnes</td>\n",
       "      <td>4281.0</td>\n",
       "      <td>S</td>\n",
       "      <td>Données standardisées</td>\n",
       "    </tr>\n",
       "    <tr>\n",
       "      <th>1</th>\n",
       "      <td>FBS</td>\n",
       "      <td>Nouveaux Bilans Alimentaire</td>\n",
       "      <td>2</td>\n",
       "      <td>Afghanistan</td>\n",
       "      <td>5611</td>\n",
       "      <td>Importations - Quantité</td>\n",
       "      <td>2511</td>\n",
       "      <td>Blé et produits</td>\n",
       "      <td>2017</td>\n",
       "      <td>2017</td>\n",
       "      <td>Milliers de tonnes</td>\n",
       "      <td>2302.0</td>\n",
       "      <td>S</td>\n",
       "      <td>Données standardisées</td>\n",
       "    </tr>\n",
       "  </tbody>\n",
       "</table>\n",
       "</div>"
      ],
      "text/plain": [
       "  Code Domaine                      Domaine  Code zone         Zone  \\\n",
       "0          FBS  Nouveaux Bilans Alimentaire          2  Afghanistan   \n",
       "1          FBS  Nouveaux Bilans Alimentaire          2  Afghanistan   \n",
       "\n",
       "   Code Élément                  Élément  Code Produit          Produit  \\\n",
       "0          5511               Production          2511  Blé et produits   \n",
       "1          5611  Importations - Quantité          2511  Blé et produits   \n",
       "\n",
       "   Code année  Année               Unité  Valeur Symbole  \\\n",
       "0        2017   2017  Milliers de tonnes  4281.0       S   \n",
       "1        2017   2017  Milliers de tonnes  2302.0       S   \n",
       "\n",
       "  Description du Symbole  \n",
       "0  Données standardisées  \n",
       "1  Données standardisées  "
      ]
     },
     "execution_count": 3,
     "metadata": {},
     "output_type": "execute_result"
    }
   ],
   "source": [
    "# affichage df\n",
    "df_alim.head(2)"
   ]
  },
  {
   "cell_type": "code",
   "execution_count": 4,
   "id": "a12ff390",
   "metadata": {},
   "outputs": [
    {
     "data": {
      "text/plain": [
       "(176600, 14)"
      ]
     },
     "execution_count": 4,
     "metadata": {},
     "output_type": "execute_result"
    }
   ],
   "source": [
    "# controle dimension\n",
    "df_alim.shape"
   ]
  },
  {
   "cell_type": "code",
   "execution_count": 5,
   "id": "f354da6f",
   "metadata": {},
   "outputs": [
    {
     "data": {
      "text/plain": [
       "Code Domaine              0\n",
       "Domaine                   0\n",
       "Code zone                 0\n",
       "Zone                      0\n",
       "Code Élément              0\n",
       "Élément                   0\n",
       "Code Produit              0\n",
       "Produit                   0\n",
       "Code année                0\n",
       "Année                     0\n",
       "Unité                     0\n",
       "Valeur                    0\n",
       "Symbole                   0\n",
       "Description du Symbole    0\n",
       "dtype: int64"
      ]
     },
     "execution_count": 5,
     "metadata": {},
     "output_type": "execute_result"
    }
   ],
   "source": [
    "# controle valeurs nulles\n",
    "df_alim.isnull().sum()"
   ]
  },
  {
   "cell_type": "code",
   "execution_count": 6,
   "id": "97394d70",
   "metadata": {
    "scrolled": true
   },
   "outputs": [
    {
     "data": {
      "text/plain": [
       "array(['Blé et produits', 'Riz et produits', 'Orge et produits',\n",
       "       'Maïs et produits', 'Seigle et produits', 'Avoine',\n",
       "       'Millet et produits', 'Sorgho et produits', 'Céréales, Autres',\n",
       "       'Pommes de Terre et produits', 'Ignames', 'Racines nda',\n",
       "       'Sucre, canne', 'Sucre, betterave', 'Sucre Eq Brut',\n",
       "       'Edulcorants Autres', 'Miel', 'Haricots', 'Pois',\n",
       "       'Légumineuses Autres et produits', 'Noix et produits', 'Soja',\n",
       "       'Arachides Decortiquees', 'Graines de tournesol',\n",
       "       'Graines Colza/Moutarde', 'Graines de coton', 'Coco (Incl Coprah)',\n",
       "       'Sésame', 'Olives', 'Plantes Oleiferes, Autre', 'Huile de Soja',\n",
       "       \"Huile d'Arachide\", 'Huile de Tournesol',\n",
       "       'Huile de Colza&Moutarde', 'Huile Graines de Coton',\n",
       "       'Huile de Palmistes', 'Huile de Palme', 'Huile de Coco',\n",
       "       'Huile de Sésame', \"Huile d'Olive\", 'Huile de Son de Riz',\n",
       "       'Huile de Germe de Maïs', 'Huil Plantes Oleif Autr',\n",
       "       'Tomates et produits', 'Oignons', 'Légumes, Autres',\n",
       "       'Oranges, Mandarines', 'Citrons & Limes et produits',\n",
       "       'Pamplemousse et produits', 'Agrumes, Autres', 'Bananes',\n",
       "       'Pommes et produits', 'Ananas et produits', 'Dattes', 'Raisin',\n",
       "       'Fruits, Autres', 'Café et produits', 'Feve de Cacao et produits',\n",
       "       'Thé', 'Poivre', 'Piments', 'Girofles', 'Épices, Autres', 'Vin',\n",
       "       'Bière', 'Boissons Fermentés', 'Boissons Alcooliques',\n",
       "       'Alcool, non Comestible', 'Viande de Bovins',\n",
       "       \"Viande d'Ovins/Caprins\", 'Viande de Suides',\n",
       "       'Viande de Volailles', 'Viande, Autre', 'Abats Comestible',\n",
       "       'Beurre, Ghee', 'Crème', 'Graisses Animales Crue', 'Oeufs',\n",
       "       'Lait - Excl Beurre', 'Poissons Eau Douce',\n",
       "       'Aliments pour enfants', 'Miscellanees', 'Manioc et produits',\n",
       "       'Patates douces', 'Palmistes', 'Bananes plantains',\n",
       "       'Huiles de Poissons', 'Huiles de Foie de Poisso', 'Perciform',\n",
       "       'Poissons Pelagiques', 'Poissons Marins, Autres', 'Crustacés',\n",
       "       'Cephalopodes', 'Mollusques, Autres', 'Animaux Aquatiques Autre',\n",
       "       'Plantes Aquatiques', 'Sucre non centrifugé',\n",
       "       'Viande de Anim Aquatiq'], dtype=object)"
      ]
     },
     "execution_count": 6,
     "metadata": {},
     "output_type": "execute_result"
    }
   ],
   "source": [
    "# controle valeur unique\n",
    "df_alim['Produit'].unique()"
   ]
  },
  {
   "cell_type": "markdown",
   "id": "9c44dc36",
   "metadata": {},
   "source": [
    "Présence de divers typologie des produits, je vais extraire les valeurs 'viande de vollailles'"
   ]
  },
  {
   "cell_type": "code",
   "execution_count": 7,
   "id": "d59a86ae",
   "metadata": {},
   "outputs": [
    {
     "data": {
      "text/html": [
       "<div>\n",
       "<style scoped>\n",
       "    .dataframe tbody tr th:only-of-type {\n",
       "        vertical-align: middle;\n",
       "    }\n",
       "\n",
       "    .dataframe tbody tr th {\n",
       "        vertical-align: top;\n",
       "    }\n",
       "\n",
       "    .dataframe thead th {\n",
       "        text-align: right;\n",
       "    }\n",
       "</style>\n",
       "<table border=\"1\" class=\"dataframe\">\n",
       "  <thead>\n",
       "    <tr style=\"text-align: right;\">\n",
       "      <th></th>\n",
       "      <th>index</th>\n",
       "      <th>Code Domaine</th>\n",
       "      <th>Domaine</th>\n",
       "      <th>Code zone</th>\n",
       "      <th>Zone</th>\n",
       "      <th>Code Élément</th>\n",
       "      <th>Élément</th>\n",
       "      <th>Code Produit</th>\n",
       "      <th>Produit</th>\n",
       "      <th>Code année</th>\n",
       "      <th>Année</th>\n",
       "      <th>Unité</th>\n",
       "      <th>Valeur</th>\n",
       "      <th>Symbole</th>\n",
       "      <th>Description du Symbole</th>\n",
       "    </tr>\n",
       "  </thead>\n",
       "  <tbody>\n",
       "    <tr>\n",
       "      <th>0</th>\n",
       "      <td>651</td>\n",
       "      <td>FBS</td>\n",
       "      <td>Nouveaux Bilans Alimentaire</td>\n",
       "      <td>2</td>\n",
       "      <td>Afghanistan</td>\n",
       "      <td>5511</td>\n",
       "      <td>Production</td>\n",
       "      <td>2734</td>\n",
       "      <td>Viande de Volailles</td>\n",
       "      <td>2017</td>\n",
       "      <td>2017</td>\n",
       "      <td>Milliers de tonnes</td>\n",
       "      <td>28.0</td>\n",
       "      <td>S</td>\n",
       "      <td>Données standardisées</td>\n",
       "    </tr>\n",
       "    <tr>\n",
       "      <th>1</th>\n",
       "      <td>652</td>\n",
       "      <td>FBS</td>\n",
       "      <td>Nouveaux Bilans Alimentaire</td>\n",
       "      <td>2</td>\n",
       "      <td>Afghanistan</td>\n",
       "      <td>5611</td>\n",
       "      <td>Importations - Quantité</td>\n",
       "      <td>2734</td>\n",
       "      <td>Viande de Volailles</td>\n",
       "      <td>2017</td>\n",
       "      <td>2017</td>\n",
       "      <td>Milliers de tonnes</td>\n",
       "      <td>29.0</td>\n",
       "      <td>S</td>\n",
       "      <td>Données standardisées</td>\n",
       "    </tr>\n",
       "    <tr>\n",
       "      <th>2</th>\n",
       "      <td>653</td>\n",
       "      <td>FBS</td>\n",
       "      <td>Nouveaux Bilans Alimentaire</td>\n",
       "      <td>2</td>\n",
       "      <td>Afghanistan</td>\n",
       "      <td>5072</td>\n",
       "      <td>Variation de stock</td>\n",
       "      <td>2734</td>\n",
       "      <td>Viande de Volailles</td>\n",
       "      <td>2017</td>\n",
       "      <td>2017</td>\n",
       "      <td>Milliers de tonnes</td>\n",
       "      <td>0.0</td>\n",
       "      <td>S</td>\n",
       "      <td>Données standardisées</td>\n",
       "    </tr>\n",
       "  </tbody>\n",
       "</table>\n",
       "</div>"
      ],
      "text/plain": [
       "   index Code Domaine                      Domaine  Code zone         Zone  \\\n",
       "0    651          FBS  Nouveaux Bilans Alimentaire          2  Afghanistan   \n",
       "1    652          FBS  Nouveaux Bilans Alimentaire          2  Afghanistan   \n",
       "2    653          FBS  Nouveaux Bilans Alimentaire          2  Afghanistan   \n",
       "\n",
       "   Code Élément                  Élément  Code Produit              Produit  \\\n",
       "0          5511               Production          2734  Viande de Volailles   \n",
       "1          5611  Importations - Quantité          2734  Viande de Volailles   \n",
       "2          5072       Variation de stock          2734  Viande de Volailles   \n",
       "\n",
       "   Code année  Année               Unité  Valeur Symbole  \\\n",
       "0        2017   2017  Milliers de tonnes    28.0       S   \n",
       "1        2017   2017  Milliers de tonnes    29.0       S   \n",
       "2        2017   2017  Milliers de tonnes     0.0       S   \n",
       "\n",
       "  Description du Symbole  \n",
       "0  Données standardisées  \n",
       "1  Données standardisées  \n",
       "2  Données standardisées  "
      ]
     },
     "execution_count": 7,
     "metadata": {},
     "output_type": "execute_result"
    }
   ],
   "source": [
    "# filtre pour la viande de volailles\n",
    "df_alim_v = df_alim[df_alim['Produit'] == 'Viande de Volailles'].reset_index()\n",
    "df_alim_v.head(3)"
   ]
  },
  {
   "cell_type": "markdown",
   "id": "15a63d51",
   "metadata": {},
   "source": [
    "Il y a divers colonnes qui ne semble pas être pertinent avec l'étude ou que sont redondantes"
   ]
  },
  {
   "cell_type": "code",
   "execution_count": 8,
   "id": "e6692eb9",
   "metadata": {},
   "outputs": [],
   "source": [
    "# création variable pour stocker les noms de colonnes\n",
    "col_alim_d = ['index','Code Domaine',\n",
    "              'Domaine','Code zone','Code Élément',\n",
    "              'Code Produit','Produit','Code année',\n",
    "              'Description du Symbole']"
   ]
  },
  {
   "cell_type": "code",
   "execution_count": 9,
   "id": "d44baa14",
   "metadata": {},
   "outputs": [
    {
     "data": {
      "text/html": [
       "<div>\n",
       "<style scoped>\n",
       "    .dataframe tbody tr th:only-of-type {\n",
       "        vertical-align: middle;\n",
       "    }\n",
       "\n",
       "    .dataframe tbody tr th {\n",
       "        vertical-align: top;\n",
       "    }\n",
       "\n",
       "    .dataframe thead th {\n",
       "        text-align: right;\n",
       "    }\n",
       "</style>\n",
       "<table border=\"1\" class=\"dataframe\">\n",
       "  <thead>\n",
       "    <tr style=\"text-align: right;\">\n",
       "      <th></th>\n",
       "      <th>Zone</th>\n",
       "      <th>Élément</th>\n",
       "      <th>Année</th>\n",
       "      <th>Unité</th>\n",
       "      <th>Valeur</th>\n",
       "      <th>Symbole</th>\n",
       "    </tr>\n",
       "  </thead>\n",
       "  <tbody>\n",
       "    <tr>\n",
       "      <th>0</th>\n",
       "      <td>Afghanistan</td>\n",
       "      <td>Production</td>\n",
       "      <td>2017</td>\n",
       "      <td>Milliers de tonnes</td>\n",
       "      <td>28.0</td>\n",
       "      <td>S</td>\n",
       "    </tr>\n",
       "    <tr>\n",
       "      <th>1</th>\n",
       "      <td>Afghanistan</td>\n",
       "      <td>Importations - Quantité</td>\n",
       "      <td>2017</td>\n",
       "      <td>Milliers de tonnes</td>\n",
       "      <td>29.0</td>\n",
       "      <td>S</td>\n",
       "    </tr>\n",
       "    <tr>\n",
       "      <th>2</th>\n",
       "      <td>Afghanistan</td>\n",
       "      <td>Variation de stock</td>\n",
       "      <td>2017</td>\n",
       "      <td>Milliers de tonnes</td>\n",
       "      <td>0.0</td>\n",
       "      <td>S</td>\n",
       "    </tr>\n",
       "  </tbody>\n",
       "</table>\n",
       "</div>"
      ],
      "text/plain": [
       "          Zone                  Élément  Année               Unité  Valeur  \\\n",
       "0  Afghanistan               Production   2017  Milliers de tonnes    28.0   \n",
       "1  Afghanistan  Importations - Quantité   2017  Milliers de tonnes    29.0   \n",
       "2  Afghanistan       Variation de stock   2017  Milliers de tonnes     0.0   \n",
       "\n",
       "  Symbole  \n",
       "0       S  \n",
       "1       S  \n",
       "2       S  "
      ]
     },
     "execution_count": 9,
     "metadata": {},
     "output_type": "execute_result"
    }
   ],
   "source": [
    "# supprimer colonnes \n",
    "df_alim_v.drop(columns=col_alim_d, inplace = True)\n",
    "df_alim_v.head(3)"
   ]
  },
  {
   "cell_type": "code",
   "execution_count": 10,
   "id": "5c79ee4c",
   "metadata": {
    "scrolled": true
   },
   "outputs": [
    {
     "data": {
      "text/html": [
       "<div>\n",
       "<style scoped>\n",
       "    .dataframe tbody tr th:only-of-type {\n",
       "        vertical-align: middle;\n",
       "    }\n",
       "\n",
       "    .dataframe tbody tr th {\n",
       "        vertical-align: top;\n",
       "    }\n",
       "\n",
       "    .dataframe thead th {\n",
       "        text-align: right;\n",
       "    }\n",
       "</style>\n",
       "<table border=\"1\" class=\"dataframe\">\n",
       "  <thead>\n",
       "    <tr style=\"text-align: right;\">\n",
       "      <th>Élément</th>\n",
       "      <th>Alimentation pour touristes</th>\n",
       "      <th>Aliments pour animaux</th>\n",
       "      <th>Autres utilisations (non alimentaire)</th>\n",
       "      <th>Disponibilité alimentaire (Kcal/personne/jour)</th>\n",
       "      <th>Disponibilité alimentaire en quantité (kg/personne/an)</th>\n",
       "      <th>Disponibilité de matière grasse en quantité (g/personne/jour)</th>\n",
       "      <th>Disponibilité de protéines en quantité (g/personne/jour)</th>\n",
       "      <th>Disponibilité intérieure</th>\n",
       "      <th>Exportations - Quantité</th>\n",
       "      <th>Importations - Quantité</th>\n",
       "      <th>Nourriture</th>\n",
       "      <th>Pertes</th>\n",
       "      <th>Production</th>\n",
       "      <th>Résidus</th>\n",
       "      <th>Semences</th>\n",
       "      <th>Traitement</th>\n",
       "      <th>Variation de stock</th>\n",
       "    </tr>\n",
       "    <tr>\n",
       "      <th>Zone</th>\n",
       "      <th></th>\n",
       "      <th></th>\n",
       "      <th></th>\n",
       "      <th></th>\n",
       "      <th></th>\n",
       "      <th></th>\n",
       "      <th></th>\n",
       "      <th></th>\n",
       "      <th></th>\n",
       "      <th></th>\n",
       "      <th></th>\n",
       "      <th></th>\n",
       "      <th></th>\n",
       "      <th></th>\n",
       "      <th></th>\n",
       "      <th></th>\n",
       "      <th></th>\n",
       "    </tr>\n",
       "  </thead>\n",
       "  <tbody>\n",
       "    <tr>\n",
       "      <th>Afghanistan</th>\n",
       "      <td>NaN</td>\n",
       "      <td>NaN</td>\n",
       "      <td>NaN</td>\n",
       "      <td>5.0</td>\n",
       "      <td>1.53</td>\n",
       "      <td>0.33</td>\n",
       "      <td>0.54</td>\n",
       "      <td>57.0</td>\n",
       "      <td>NaN</td>\n",
       "      <td>29.0</td>\n",
       "      <td>55.0</td>\n",
       "      <td>2.0</td>\n",
       "      <td>28.0</td>\n",
       "      <td>0.0</td>\n",
       "      <td>NaN</td>\n",
       "      <td>NaN</td>\n",
       "      <td>0.0</td>\n",
       "    </tr>\n",
       "    <tr>\n",
       "      <th>Afrique du Sud</th>\n",
       "      <td>0.0</td>\n",
       "      <td>NaN</td>\n",
       "      <td>NaN</td>\n",
       "      <td>143.0</td>\n",
       "      <td>35.69</td>\n",
       "      <td>9.25</td>\n",
       "      <td>14.11</td>\n",
       "      <td>2118.0</td>\n",
       "      <td>63.0</td>\n",
       "      <td>514.0</td>\n",
       "      <td>2035.0</td>\n",
       "      <td>83.0</td>\n",
       "      <td>1667.0</td>\n",
       "      <td>0.0</td>\n",
       "      <td>NaN</td>\n",
       "      <td>NaN</td>\n",
       "      <td>-0.0</td>\n",
       "    </tr>\n",
       "  </tbody>\n",
       "</table>\n",
       "</div>"
      ],
      "text/plain": [
       "Élément         Alimentation pour touristes  Aliments pour animaux  \\\n",
       "Zone                                                                 \n",
       "Afghanistan                             NaN                    NaN   \n",
       "Afrique du Sud                          0.0                    NaN   \n",
       "\n",
       "Élément         Autres utilisations (non alimentaire)  \\\n",
       "Zone                                                    \n",
       "Afghanistan                                       NaN   \n",
       "Afrique du Sud                                    NaN   \n",
       "\n",
       "Élément         Disponibilité alimentaire (Kcal/personne/jour)  \\\n",
       "Zone                                                             \n",
       "Afghanistan                                                5.0   \n",
       "Afrique du Sud                                           143.0   \n",
       "\n",
       "Élément         Disponibilité alimentaire en quantité (kg/personne/an)  \\\n",
       "Zone                                                                     \n",
       "Afghanistan                                                  1.53        \n",
       "Afrique du Sud                                              35.69        \n",
       "\n",
       "Élément         Disponibilité de matière grasse en quantité (g/personne/jour)  \\\n",
       "Zone                                                                            \n",
       "Afghanistan                                                  0.33               \n",
       "Afrique du Sud                                               9.25               \n",
       "\n",
       "Élément         Disponibilité de protéines en quantité (g/personne/jour)  \\\n",
       "Zone                                                                       \n",
       "Afghanistan                                                  0.54          \n",
       "Afrique du Sud                                              14.11          \n",
       "\n",
       "Élément         Disponibilité intérieure  Exportations - Quantité  \\\n",
       "Zone                                                                \n",
       "Afghanistan                         57.0                      NaN   \n",
       "Afrique du Sud                    2118.0                     63.0   \n",
       "\n",
       "Élément         Importations - Quantité  Nourriture  Pertes  Production  \\\n",
       "Zone                                                                      \n",
       "Afghanistan                        29.0        55.0     2.0        28.0   \n",
       "Afrique du Sud                    514.0      2035.0    83.0      1667.0   \n",
       "\n",
       "Élément         Résidus  Semences  Traitement  Variation de stock  \n",
       "Zone                                                               \n",
       "Afghanistan         0.0       NaN         NaN                 0.0  \n",
       "Afrique du Sud      0.0       NaN         NaN                -0.0  "
      ]
     },
     "execution_count": 10,
     "metadata": {},
     "output_type": "execute_result"
    }
   ],
   "source": [
    "# pivotage df\n",
    "df_alim_pi = df_alim_v.pivot(index='Zone', columns='Élément', values ='Valeur')\n",
    "df_alim_pi.head(2)"
   ]
  },
  {
   "cell_type": "markdown",
   "id": "24e733cf",
   "metadata": {},
   "source": [
    "Divers valeurs NaN dans le Dataframe pivoté, on vas les traiter."
   ]
  },
  {
   "cell_type": "code",
   "execution_count": 11,
   "id": "77708e4e",
   "metadata": {},
   "outputs": [
    {
     "data": {
      "text/plain": [
       "Élément\n",
       "Alimentation pour touristes                                       94\n",
       "Aliments pour animaux                                            171\n",
       "Autres utilisations (non alimentaire)                            138\n",
       "Disponibilité alimentaire (Kcal/personne/jour)                     0\n",
       "Disponibilité alimentaire en quantité (kg/personne/an)             0\n",
       "Disponibilité de matière grasse en quantité (g/personne/jour)      0\n",
       "Disponibilité de protéines en quantité (g/personne/jour)           0\n",
       "Disponibilité intérieure                                           2\n",
       "Exportations - Quantité                                           37\n",
       "Importations - Quantité                                            2\n",
       "Nourriture                                                         2\n",
       "Pertes                                                           105\n",
       "Production                                                         4\n",
       "Résidus                                                            8\n",
       "Semences                                                         171\n",
       "Traitement                                                       126\n",
       "Variation de stock                                                 3\n",
       "dtype: int64"
      ]
     },
     "execution_count": 11,
     "metadata": {},
     "output_type": "execute_result"
    }
   ],
   "source": [
    "# controle valeurs nulles\n",
    "df_alim_pi.isnull().sum()"
   ]
  },
  {
   "cell_type": "markdown",
   "id": "e03a6603",
   "metadata": {},
   "source": [
    "Certaines colonnes on vas les supprimer parceque elles n'ont pas pertinence avec l'étude."
   ]
  },
  {
   "cell_type": "markdown",
   "id": "d8fe2ec9",
   "metadata": {},
   "source": [
    "On peut calculer les valeurs nulles à travers la formule ci dessous\n",
    "\n",
    "Disponibilité intérieure = Nourriture + Pertes.\n",
    "Ou encore\n",
    "\n",
    "Disponibilité intérieure = importation - exportation + production +- Variation de stock.\n",
    "On générale on observe que le resultat des ces calculs donne une valeur de 0, donc on peut procéder avec la conversion de ces valeurs"
   ]
  },
  {
   "cell_type": "code",
   "execution_count": 12,
   "id": "5b2cd99c",
   "metadata": {},
   "outputs": [],
   "source": [
    "# creation variable contenant des colonnes à supprimer\n",
    "col_alim_d_1 = ['Alimentation pour touristes',\n",
    "              'Exportations - Quantité','Nourriture',\n",
    "              'Pertes', 'Aliments pour animaux', \n",
    "              'Autres utilisations (non alimentaire)',\n",
    "              'Disponibilité alimentaire en quantité (kg/personne/an)',\n",
    "              'Disponibilité de matière grasse en quantité (g/personne/jour)',\n",
    "              'Résidus', 'Semences', 'Traitement','Variation de stock']"
   ]
  },
  {
   "cell_type": "code",
   "execution_count": 13,
   "id": "f26c1873",
   "metadata": {},
   "outputs": [],
   "source": [
    "# suppression colonnes\n",
    "df_alim_pi.drop(columns=col_alim_d_1, inplace = True)"
   ]
  },
  {
   "cell_type": "code",
   "execution_count": 14,
   "id": "c0856493",
   "metadata": {},
   "outputs": [
    {
     "data": {
      "text/html": [
       "<div>\n",
       "<style scoped>\n",
       "    .dataframe tbody tr th:only-of-type {\n",
       "        vertical-align: middle;\n",
       "    }\n",
       "\n",
       "    .dataframe tbody tr th {\n",
       "        vertical-align: top;\n",
       "    }\n",
       "\n",
       "    .dataframe thead th {\n",
       "        text-align: right;\n",
       "    }\n",
       "</style>\n",
       "<table border=\"1\" class=\"dataframe\">\n",
       "  <thead>\n",
       "    <tr style=\"text-align: right;\">\n",
       "      <th>Élément</th>\n",
       "      <th>Disponibilité alimentaire (Kcal/personne/jour)</th>\n",
       "      <th>Disponibilité de protéines en quantité (g/personne/jour)</th>\n",
       "      <th>Disponibilité intérieure</th>\n",
       "      <th>Importations - Quantité</th>\n",
       "      <th>Production</th>\n",
       "    </tr>\n",
       "    <tr>\n",
       "      <th>Zone</th>\n",
       "      <th></th>\n",
       "      <th></th>\n",
       "      <th></th>\n",
       "      <th></th>\n",
       "      <th></th>\n",
       "    </tr>\n",
       "  </thead>\n",
       "  <tbody>\n",
       "    <tr>\n",
       "      <th>Afghanistan</th>\n",
       "      <td>5.0</td>\n",
       "      <td>0.54</td>\n",
       "      <td>57.0</td>\n",
       "      <td>29.0</td>\n",
       "      <td>28.0</td>\n",
       "    </tr>\n",
       "    <tr>\n",
       "      <th>Afrique du Sud</th>\n",
       "      <td>143.0</td>\n",
       "      <td>14.11</td>\n",
       "      <td>2118.0</td>\n",
       "      <td>514.0</td>\n",
       "      <td>1667.0</td>\n",
       "    </tr>\n",
       "  </tbody>\n",
       "</table>\n",
       "</div>"
      ],
      "text/plain": [
       "Élément         Disponibilité alimentaire (Kcal/personne/jour)  \\\n",
       "Zone                                                             \n",
       "Afghanistan                                                5.0   \n",
       "Afrique du Sud                                           143.0   \n",
       "\n",
       "Élément         Disponibilité de protéines en quantité (g/personne/jour)  \\\n",
       "Zone                                                                       \n",
       "Afghanistan                                                  0.54          \n",
       "Afrique du Sud                                              14.11          \n",
       "\n",
       "Élément         Disponibilité intérieure  Importations - Quantité  Production  \n",
       "Zone                                                                           \n",
       "Afghanistan                         57.0                     29.0        28.0  \n",
       "Afrique du Sud                    2118.0                    514.0      1667.0  "
      ]
     },
     "execution_count": 14,
     "metadata": {},
     "output_type": "execute_result"
    }
   ],
   "source": [
    "# affichage df\n",
    "df_alim_pi.head(2)"
   ]
  },
  {
   "cell_type": "code",
   "execution_count": 15,
   "id": "212ec9da",
   "metadata": {},
   "outputs": [
    {
     "data": {
      "text/plain": [
       "Élément\n",
       "Disponibilité alimentaire (Kcal/personne/jour)              0\n",
       "Disponibilité de protéines en quantité (g/personne/jour)    0\n",
       "Disponibilité intérieure                                    0\n",
       "Importations - Quantité                                     0\n",
       "Production                                                  0\n",
       "dtype: int64"
      ]
     },
     "execution_count": 15,
     "metadata": {},
     "output_type": "execute_result"
    }
   ],
   "source": [
    "# traitement des valeurs NaN\n",
    "df_alim_pi.fillna(0, inplace=True)\n",
    "df_alim_pi.isnull().sum()"
   ]
  },
  {
   "cell_type": "markdown",
   "id": "a65c1e2a",
   "metadata": {},
   "source": [
    "### <a name='T4'> 2.2 - Population </a>"
   ]
  },
  {
   "cell_type": "code",
   "execution_count": 16,
   "id": "04edf81d",
   "metadata": {},
   "outputs": [
    {
     "data": {
      "text/html": [
       "<div>\n",
       "<style scoped>\n",
       "    .dataframe tbody tr th:only-of-type {\n",
       "        vertical-align: middle;\n",
       "    }\n",
       "\n",
       "    .dataframe tbody tr th {\n",
       "        vertical-align: top;\n",
       "    }\n",
       "\n",
       "    .dataframe thead th {\n",
       "        text-align: right;\n",
       "    }\n",
       "</style>\n",
       "<table border=\"1\" class=\"dataframe\">\n",
       "  <thead>\n",
       "    <tr style=\"text-align: right;\">\n",
       "      <th></th>\n",
       "      <th>Code Domaine</th>\n",
       "      <th>Domaine</th>\n",
       "      <th>Code zone</th>\n",
       "      <th>Zone</th>\n",
       "      <th>Code Élément</th>\n",
       "      <th>Élément</th>\n",
       "      <th>Code Produit</th>\n",
       "      <th>Produit</th>\n",
       "      <th>Code année</th>\n",
       "      <th>Année</th>\n",
       "      <th>Unité</th>\n",
       "      <th>Valeur</th>\n",
       "      <th>Symbole</th>\n",
       "      <th>Description du Symbole</th>\n",
       "      <th>Note</th>\n",
       "    </tr>\n",
       "  </thead>\n",
       "  <tbody>\n",
       "    <tr>\n",
       "      <th>0</th>\n",
       "      <td>OA</td>\n",
       "      <td>Séries temporelles annuelles</td>\n",
       "      <td>2</td>\n",
       "      <td>Afghanistan</td>\n",
       "      <td>511</td>\n",
       "      <td>Population totale</td>\n",
       "      <td>3010</td>\n",
       "      <td>Population-Estimations</td>\n",
       "      <td>2000</td>\n",
       "      <td>2000</td>\n",
       "      <td>1000 personnes</td>\n",
       "      <td>20779.953</td>\n",
       "      <td>X</td>\n",
       "      <td>Sources internationales sûres</td>\n",
       "      <td>NaN</td>\n",
       "    </tr>\n",
       "    <tr>\n",
       "      <th>1</th>\n",
       "      <td>OA</td>\n",
       "      <td>Séries temporelles annuelles</td>\n",
       "      <td>2</td>\n",
       "      <td>Afghanistan</td>\n",
       "      <td>511</td>\n",
       "      <td>Population totale</td>\n",
       "      <td>3010</td>\n",
       "      <td>Population-Estimations</td>\n",
       "      <td>2001</td>\n",
       "      <td>2001</td>\n",
       "      <td>1000 personnes</td>\n",
       "      <td>21606.988</td>\n",
       "      <td>X</td>\n",
       "      <td>Sources internationales sûres</td>\n",
       "      <td>NaN</td>\n",
       "    </tr>\n",
       "  </tbody>\n",
       "</table>\n",
       "</div>"
      ],
      "text/plain": [
       "  Code Domaine                       Domaine  Code zone         Zone  \\\n",
       "0           OA  Séries temporelles annuelles          2  Afghanistan   \n",
       "1           OA  Séries temporelles annuelles          2  Afghanistan   \n",
       "\n",
       "   Code Élément            Élément  Code Produit                 Produit  \\\n",
       "0           511  Population totale          3010  Population-Estimations   \n",
       "1           511  Population totale          3010  Population-Estimations   \n",
       "\n",
       "   Code année  Année           Unité     Valeur Symbole  \\\n",
       "0        2000   2000  1000 personnes  20779.953       X   \n",
       "1        2001   2001  1000 personnes  21606.988       X   \n",
       "\n",
       "          Description du Symbole Note  \n",
       "0  Sources internationales sûres  NaN  \n",
       "1  Sources internationales sûres  NaN  "
      ]
     },
     "execution_count": 16,
     "metadata": {},
     "output_type": "execute_result"
    }
   ],
   "source": [
    "# affichage df\n",
    "df_pop.head(2)"
   ]
  },
  {
   "cell_type": "code",
   "execution_count": 17,
   "id": "63c7baf6",
   "metadata": {},
   "outputs": [
    {
     "data": {
      "text/plain": [
       "(4411, 15)"
      ]
     },
     "execution_count": 17,
     "metadata": {},
     "output_type": "execute_result"
    }
   ],
   "source": [
    "# controle dimensions\n",
    "df_pop.shape"
   ]
  },
  {
   "cell_type": "code",
   "execution_count": 18,
   "id": "cc130ceb",
   "metadata": {},
   "outputs": [
    {
     "data": {
      "text/plain": [
       "Code Domaine                 0\n",
       "Domaine                      0\n",
       "Code zone                    0\n",
       "Zone                         0\n",
       "Code Élément                 0\n",
       "Élément                      0\n",
       "Code Produit                 0\n",
       "Produit                      0\n",
       "Code année                   0\n",
       "Année                        0\n",
       "Unité                        0\n",
       "Valeur                       0\n",
       "Symbole                      0\n",
       "Description du Symbole       0\n",
       "Note                      4153\n",
       "dtype: int64"
      ]
     },
     "execution_count": 18,
     "metadata": {},
     "output_type": "execute_result"
    }
   ],
   "source": [
    "# controle valeurs nulls\n",
    "df_pop.isnull().sum()"
   ]
  },
  {
   "cell_type": "code",
   "execution_count": 19,
   "id": "c598e53c",
   "metadata": {},
   "outputs": [
    {
     "data": {
      "text/html": [
       "<div>\n",
       "<style scoped>\n",
       "    .dataframe tbody tr th:only-of-type {\n",
       "        vertical-align: middle;\n",
       "    }\n",
       "\n",
       "    .dataframe tbody tr th {\n",
       "        vertical-align: top;\n",
       "    }\n",
       "\n",
       "    .dataframe thead th {\n",
       "        text-align: right;\n",
       "    }\n",
       "</style>\n",
       "<table border=\"1\" class=\"dataframe\">\n",
       "  <thead>\n",
       "    <tr style=\"text-align: right;\">\n",
       "      <th></th>\n",
       "      <th>Code zone</th>\n",
       "      <th>Code Élément</th>\n",
       "      <th>Code Produit</th>\n",
       "      <th>Code année</th>\n",
       "      <th>Année</th>\n",
       "      <th>Valeur</th>\n",
       "    </tr>\n",
       "  </thead>\n",
       "  <tbody>\n",
       "    <tr>\n",
       "      <th>count</th>\n",
       "      <td>4411.000000</td>\n",
       "      <td>4411.0</td>\n",
       "      <td>4411.0</td>\n",
       "      <td>4411.000000</td>\n",
       "      <td>4411.000000</td>\n",
       "      <td>4.411000e+03</td>\n",
       "    </tr>\n",
       "    <tr>\n",
       "      <th>mean</th>\n",
       "      <td>132.202902</td>\n",
       "      <td>511.0</td>\n",
       "      <td>3010.0</td>\n",
       "      <td>2009.068238</td>\n",
       "      <td>2009.068238</td>\n",
       "      <td>2.963004e+04</td>\n",
       "    </tr>\n",
       "    <tr>\n",
       "      <th>std</th>\n",
       "      <td>75.854840</td>\n",
       "      <td>0.0</td>\n",
       "      <td>0.0</td>\n",
       "      <td>5.481539</td>\n",
       "      <td>5.481539</td>\n",
       "      <td>1.238029e+05</td>\n",
       "    </tr>\n",
       "    <tr>\n",
       "      <th>min</th>\n",
       "      <td>1.000000</td>\n",
       "      <td>511.0</td>\n",
       "      <td>3010.0</td>\n",
       "      <td>2000.000000</td>\n",
       "      <td>2000.000000</td>\n",
       "      <td>7.850000e-01</td>\n",
       "    </tr>\n",
       "    <tr>\n",
       "      <th>25%</th>\n",
       "      <td>68.000000</td>\n",
       "      <td>511.0</td>\n",
       "      <td>3010.0</td>\n",
       "      <td>2004.000000</td>\n",
       "      <td>2004.000000</td>\n",
       "      <td>3.921890e+02</td>\n",
       "    </tr>\n",
       "    <tr>\n",
       "      <th>50%</th>\n",
       "      <td>132.000000</td>\n",
       "      <td>511.0</td>\n",
       "      <td>3010.0</td>\n",
       "      <td>2009.000000</td>\n",
       "      <td>2009.000000</td>\n",
       "      <td>4.764741e+03</td>\n",
       "    </tr>\n",
       "    <tr>\n",
       "      <th>75%</th>\n",
       "      <td>195.000000</td>\n",
       "      <td>511.0</td>\n",
       "      <td>3010.0</td>\n",
       "      <td>2014.000000</td>\n",
       "      <td>2014.000000</td>\n",
       "      <td>1.821548e+04</td>\n",
       "    </tr>\n",
       "    <tr>\n",
       "      <th>max</th>\n",
       "      <td>299.000000</td>\n",
       "      <td>511.0</td>\n",
       "      <td>3010.0</td>\n",
       "      <td>2018.000000</td>\n",
       "      <td>2018.000000</td>\n",
       "      <td>1.427648e+06</td>\n",
       "    </tr>\n",
       "  </tbody>\n",
       "</table>\n",
       "</div>"
      ],
      "text/plain": [
       "         Code zone  Code Élément  Code Produit   Code année        Année  \\\n",
       "count  4411.000000        4411.0        4411.0  4411.000000  4411.000000   \n",
       "mean    132.202902         511.0        3010.0  2009.068238  2009.068238   \n",
       "std      75.854840           0.0           0.0     5.481539     5.481539   \n",
       "min       1.000000         511.0        3010.0  2000.000000  2000.000000   \n",
       "25%      68.000000         511.0        3010.0  2004.000000  2004.000000   \n",
       "50%     132.000000         511.0        3010.0  2009.000000  2009.000000   \n",
       "75%     195.000000         511.0        3010.0  2014.000000  2014.000000   \n",
       "max     299.000000         511.0        3010.0  2018.000000  2018.000000   \n",
       "\n",
       "             Valeur  \n",
       "count  4.411000e+03  \n",
       "mean   2.963004e+04  \n",
       "std    1.238029e+05  \n",
       "min    7.850000e-01  \n",
       "25%    3.921890e+02  \n",
       "50%    4.764741e+03  \n",
       "75%    1.821548e+04  \n",
       "max    1.427648e+06  "
      ]
     },
     "execution_count": 19,
     "metadata": {},
     "output_type": "execute_result"
    }
   ],
   "source": [
    "# description des valeurs\n",
    "df_pop.describe()"
   ]
  },
  {
   "cell_type": "markdown",
   "id": "ba8b25d8",
   "metadata": {},
   "source": [
    "On observe la présence des valeurs concernant la population tres importantes"
   ]
  },
  {
   "cell_type": "markdown",
   "id": "6fab04dd",
   "metadata": {},
   "source": [
    "L'étude est basé sur l'année 2017, on commence alors avec un filtrage"
   ]
  },
  {
   "cell_type": "code",
   "execution_count": 20,
   "id": "2e8bcc86",
   "metadata": {},
   "outputs": [
    {
     "data": {
      "text/html": [
       "<div>\n",
       "<style scoped>\n",
       "    .dataframe tbody tr th:only-of-type {\n",
       "        vertical-align: middle;\n",
       "    }\n",
       "\n",
       "    .dataframe tbody tr th {\n",
       "        vertical-align: top;\n",
       "    }\n",
       "\n",
       "    .dataframe thead th {\n",
       "        text-align: right;\n",
       "    }\n",
       "</style>\n",
       "<table border=\"1\" class=\"dataframe\">\n",
       "  <thead>\n",
       "    <tr style=\"text-align: right;\">\n",
       "      <th></th>\n",
       "      <th>index</th>\n",
       "      <th>Code Domaine</th>\n",
       "      <th>Domaine</th>\n",
       "      <th>Code zone</th>\n",
       "      <th>Zone</th>\n",
       "      <th>Code Élément</th>\n",
       "      <th>Élément</th>\n",
       "      <th>Code Produit</th>\n",
       "      <th>Produit</th>\n",
       "      <th>Code année</th>\n",
       "      <th>Année</th>\n",
       "      <th>Unité</th>\n",
       "      <th>Valeur</th>\n",
       "      <th>Symbole</th>\n",
       "      <th>Description du Symbole</th>\n",
       "      <th>Note</th>\n",
       "    </tr>\n",
       "  </thead>\n",
       "  <tbody>\n",
       "    <tr>\n",
       "      <th>0</th>\n",
       "      <td>17</td>\n",
       "      <td>OA</td>\n",
       "      <td>Séries temporelles annuelles</td>\n",
       "      <td>2</td>\n",
       "      <td>Afghanistan</td>\n",
       "      <td>511</td>\n",
       "      <td>Population totale</td>\n",
       "      <td>3010</td>\n",
       "      <td>Population-Estimations</td>\n",
       "      <td>2017</td>\n",
       "      <td>2017</td>\n",
       "      <td>1000 personnes</td>\n",
       "      <td>36296.113</td>\n",
       "      <td>X</td>\n",
       "      <td>Sources internationales sûres</td>\n",
       "      <td>NaN</td>\n",
       "    </tr>\n",
       "    <tr>\n",
       "      <th>1</th>\n",
       "      <td>36</td>\n",
       "      <td>OA</td>\n",
       "      <td>Séries temporelles annuelles</td>\n",
       "      <td>202</td>\n",
       "      <td>Afrique du Sud</td>\n",
       "      <td>511</td>\n",
       "      <td>Population totale</td>\n",
       "      <td>3010</td>\n",
       "      <td>Population-Estimations</td>\n",
       "      <td>2017</td>\n",
       "      <td>2017</td>\n",
       "      <td>1000 personnes</td>\n",
       "      <td>57009.756</td>\n",
       "      <td>X</td>\n",
       "      <td>Sources internationales sûres</td>\n",
       "      <td>NaN</td>\n",
       "    </tr>\n",
       "  </tbody>\n",
       "</table>\n",
       "</div>"
      ],
      "text/plain": [
       "   index Code Domaine                       Domaine  Code zone  \\\n",
       "0     17           OA  Séries temporelles annuelles          2   \n",
       "1     36           OA  Séries temporelles annuelles        202   \n",
       "\n",
       "             Zone  Code Élément            Élément  Code Produit  \\\n",
       "0     Afghanistan           511  Population totale          3010   \n",
       "1  Afrique du Sud           511  Population totale          3010   \n",
       "\n",
       "                  Produit  Code année  Année           Unité     Valeur  \\\n",
       "0  Population-Estimations        2017   2017  1000 personnes  36296.113   \n",
       "1  Population-Estimations        2017   2017  1000 personnes  57009.756   \n",
       "\n",
       "  Symbole         Description du Symbole Note  \n",
       "0       X  Sources internationales sûres  NaN  \n",
       "1       X  Sources internationales sûres  NaN  "
      ]
     },
     "execution_count": 20,
     "metadata": {},
     "output_type": "execute_result"
    }
   ],
   "source": [
    "# filtrafe année 20127\n",
    "df_pop_2017 = df_pop[df_pop['Année'] == 2017].reset_index()\n",
    "df_pop_2017.head(2)"
   ]
  },
  {
   "cell_type": "markdown",
   "id": "45b3ae03",
   "metadata": {},
   "source": [
    "Présence des divers colonnes avec des valeurs redondantes, ou pas relevantes pours l'étude"
   ]
  },
  {
   "cell_type": "code",
   "execution_count": 21,
   "id": "ad54e6fa",
   "metadata": {},
   "outputs": [],
   "source": [
    "# création variable avec colonnes\n",
    "col_pop_d = ['index','Code Domaine','Domaine','Code zone',\n",
    "                'Code Élément','Code Produit','Code année','Année',\n",
    "                'Unité','Description du Symbole','Produit','Élément','Note','Symbole']"
   ]
  },
  {
   "cell_type": "code",
   "execution_count": 22,
   "id": "0eff9699",
   "metadata": {
    "scrolled": true
   },
   "outputs": [
    {
     "data": {
      "text/html": [
       "<div>\n",
       "<style scoped>\n",
       "    .dataframe tbody tr th:only-of-type {\n",
       "        vertical-align: middle;\n",
       "    }\n",
       "\n",
       "    .dataframe tbody tr th {\n",
       "        vertical-align: top;\n",
       "    }\n",
       "\n",
       "    .dataframe thead th {\n",
       "        text-align: right;\n",
       "    }\n",
       "</style>\n",
       "<table border=\"1\" class=\"dataframe\">\n",
       "  <thead>\n",
       "    <tr style=\"text-align: right;\">\n",
       "      <th></th>\n",
       "      <th>Zone</th>\n",
       "      <th>Valeur</th>\n",
       "    </tr>\n",
       "  </thead>\n",
       "  <tbody>\n",
       "    <tr>\n",
       "      <th>0</th>\n",
       "      <td>Afghanistan</td>\n",
       "      <td>36296.113</td>\n",
       "    </tr>\n",
       "    <tr>\n",
       "      <th>1</th>\n",
       "      <td>Afrique du Sud</td>\n",
       "      <td>57009.756</td>\n",
       "    </tr>\n",
       "  </tbody>\n",
       "</table>\n",
       "</div>"
      ],
      "text/plain": [
       "             Zone     Valeur\n",
       "0     Afghanistan  36296.113\n",
       "1  Afrique du Sud  57009.756"
      ]
     },
     "execution_count": 22,
     "metadata": {},
     "output_type": "execute_result"
    }
   ],
   "source": [
    "# supprimer colonnes\n",
    "df_pop_2017.drop(columns=col_pop_d, inplace=True)\n",
    "df_pop_2017.head(2)"
   ]
  },
  {
   "cell_type": "code",
   "execution_count": 23,
   "id": "0fefc542",
   "metadata": {},
   "outputs": [],
   "source": [
    "# conversion population en logarithme\n",
    "df_pop_2017['Valeur'] = np.log(df_pop_2017['Valeur'])"
   ]
  },
  {
   "cell_type": "code",
   "execution_count": 24,
   "id": "c29ad59b",
   "metadata": {},
   "outputs": [],
   "source": [
    "# conversion nome de la colonne\n",
    "df_pop_2017.rename(columns={'Valeur' : 'Population'},inplace=True)"
   ]
  },
  {
   "cell_type": "code",
   "execution_count": 25,
   "id": "c094e0a8",
   "metadata": {},
   "outputs": [],
   "source": [
    "# set index\n",
    "df_pop_2017.set_index('Zone',inplace=True)"
   ]
  },
  {
   "cell_type": "code",
   "execution_count": 26,
   "id": "d5ffbc53",
   "metadata": {},
   "outputs": [
    {
     "data": {
      "text/html": [
       "<div>\n",
       "<style scoped>\n",
       "    .dataframe tbody tr th:only-of-type {\n",
       "        vertical-align: middle;\n",
       "    }\n",
       "\n",
       "    .dataframe tbody tr th {\n",
       "        vertical-align: top;\n",
       "    }\n",
       "\n",
       "    .dataframe thead th {\n",
       "        text-align: right;\n",
       "    }\n",
       "</style>\n",
       "<table border=\"1\" class=\"dataframe\">\n",
       "  <thead>\n",
       "    <tr style=\"text-align: right;\">\n",
       "      <th></th>\n",
       "      <th>Population</th>\n",
       "    </tr>\n",
       "    <tr>\n",
       "      <th>Zone</th>\n",
       "      <th></th>\n",
       "    </tr>\n",
       "  </thead>\n",
       "  <tbody>\n",
       "    <tr>\n",
       "      <th>Afghanistan</th>\n",
       "      <td>10.499466</td>\n",
       "    </tr>\n",
       "    <tr>\n",
       "      <th>Afrique du Sud</th>\n",
       "      <td>10.950978</td>\n",
       "    </tr>\n",
       "  </tbody>\n",
       "</table>\n",
       "</div>"
      ],
      "text/plain": [
       "                Population\n",
       "Zone                      \n",
       "Afghanistan      10.499466\n",
       "Afrique du Sud   10.950978"
      ]
     },
     "execution_count": 26,
     "metadata": {},
     "output_type": "execute_result"
    }
   ],
   "source": [
    "# affichage df \n",
    "df_pop_2017.head(2)"
   ]
  },
  {
   "cell_type": "markdown",
   "id": "b6dd74b1",
   "metadata": {},
   "source": [
    "### <a name = 'T5'> 2.3 - Indicateurs Macro-économique </a>"
   ]
  },
  {
   "cell_type": "code",
   "execution_count": 27,
   "id": "7abe8051",
   "metadata": {},
   "outputs": [
    {
     "data": {
      "text/html": [
       "<div>\n",
       "<style scoped>\n",
       "    .dataframe tbody tr th:only-of-type {\n",
       "        vertical-align: middle;\n",
       "    }\n",
       "\n",
       "    .dataframe tbody tr th {\n",
       "        vertical-align: top;\n",
       "    }\n",
       "\n",
       "    .dataframe thead th {\n",
       "        text-align: right;\n",
       "    }\n",
       "</style>\n",
       "<table border=\"1\" class=\"dataframe\">\n",
       "  <thead>\n",
       "    <tr style=\"text-align: right;\">\n",
       "      <th></th>\n",
       "      <th>Code Domaine</th>\n",
       "      <th>Domaine</th>\n",
       "      <th>Code zone (M49)</th>\n",
       "      <th>Zone</th>\n",
       "      <th>Code Élément</th>\n",
       "      <th>Élément</th>\n",
       "      <th>Code Produit</th>\n",
       "      <th>Produit</th>\n",
       "      <th>Code année</th>\n",
       "      <th>Année</th>\n",
       "      <th>Unité</th>\n",
       "      <th>Valeur</th>\n",
       "      <th>Symbole</th>\n",
       "      <th>Description du Symbole</th>\n",
       "      <th>Note</th>\n",
       "    </tr>\n",
       "  </thead>\n",
       "  <tbody>\n",
       "    <tr>\n",
       "      <th>0</th>\n",
       "      <td>MK</td>\n",
       "      <td>Indicateurs macro</td>\n",
       "      <td>4</td>\n",
       "      <td>Afghanistan</td>\n",
       "      <td>6110</td>\n",
       "      <td>Valeur US $</td>\n",
       "      <td>22008</td>\n",
       "      <td>Produit Intérieur Brut</td>\n",
       "      <td>2017</td>\n",
       "      <td>2017</td>\n",
       "      <td>millions</td>\n",
       "      <td>18896.352020</td>\n",
       "      <td>X</td>\n",
       "      <td>Ciffre de sources internationales</td>\n",
       "      <td>NaN</td>\n",
       "    </tr>\n",
       "    <tr>\n",
       "      <th>1</th>\n",
       "      <td>MK</td>\n",
       "      <td>Indicateurs macro</td>\n",
       "      <td>4</td>\n",
       "      <td>Afghanistan</td>\n",
       "      <td>6119</td>\n",
       "      <td>Valeur US $ par habitant</td>\n",
       "      <td>22008</td>\n",
       "      <td>Produit Intérieur Brut</td>\n",
       "      <td>2017</td>\n",
       "      <td>2017</td>\n",
       "      <td>US$</td>\n",
       "      <td>530.149831</td>\n",
       "      <td>X</td>\n",
       "      <td>Ciffre de sources internationales</td>\n",
       "      <td>NaN</td>\n",
       "    </tr>\n",
       "  </tbody>\n",
       "</table>\n",
       "</div>"
      ],
      "text/plain": [
       "  Code Domaine            Domaine  Code zone (M49)         Zone  Code Élément  \\\n",
       "0           MK  Indicateurs macro                4  Afghanistan          6110   \n",
       "1           MK  Indicateurs macro                4  Afghanistan          6119   \n",
       "\n",
       "                    Élément  Code Produit                 Produit  Code année  \\\n",
       "0               Valeur US $         22008  Produit Intérieur Brut        2017   \n",
       "1  Valeur US $ par habitant         22008  Produit Intérieur Brut        2017   \n",
       "\n",
       "   Année     Unité        Valeur Symbole             Description du Symbole  \\\n",
       "0   2017  millions  18896.352020       X  Ciffre de sources internationales   \n",
       "1   2017       US$    530.149831       X  Ciffre de sources internationales   \n",
       "\n",
       "   Note  \n",
       "0   NaN  \n",
       "1   NaN  "
      ]
     },
     "execution_count": 27,
     "metadata": {},
     "output_type": "execute_result"
    }
   ],
   "source": [
    "#affichage table\n",
    "df_pib.head(2)"
   ]
  },
  {
   "cell_type": "code",
   "execution_count": 28,
   "id": "e3db8904",
   "metadata": {},
   "outputs": [
    {
     "data": {
      "text/plain": [
       "(422, 15)"
      ]
     },
     "execution_count": 28,
     "metadata": {},
     "output_type": "execute_result"
    }
   ],
   "source": [
    "# controle dimensions\n",
    "df_pib.shape"
   ]
  },
  {
   "cell_type": "code",
   "execution_count": 29,
   "id": "ce5349bd",
   "metadata": {
    "scrolled": true
   },
   "outputs": [
    {
     "data": {
      "text/plain": [
       "Code Domaine                0\n",
       "Domaine                     0\n",
       "Code zone (M49)             0\n",
       "Zone                        0\n",
       "Code Élément                0\n",
       "Élément                     0\n",
       "Code Produit                0\n",
       "Produit                     0\n",
       "Code année                  0\n",
       "Année                       0\n",
       "Unité                       0\n",
       "Valeur                      0\n",
       "Symbole                     0\n",
       "Description du Symbole      0\n",
       "Note                      422\n",
       "dtype: int64"
      ]
     },
     "execution_count": 29,
     "metadata": {},
     "output_type": "execute_result"
    }
   ],
   "source": [
    "# controle valeurs nulles\n",
    "df_pib.isnull().sum()"
   ]
  },
  {
   "cell_type": "markdown",
   "id": "cd48a3fd",
   "metadata": {},
   "source": [
    "Presence des valeurs nulles danas la colonne **Note** que on vas supprimer, donc on ne la traite pas"
   ]
  },
  {
   "cell_type": "code",
   "execution_count": 30,
   "id": "7f92fb3e",
   "metadata": {},
   "outputs": [],
   "source": [
    "# creation variable colonnes\n",
    "col_pib_d = ['Code Domaine','Domaine','Code zone (M49)',\n",
    "                'Code Élément','Code Produit','Code année','Année','Unité',\n",
    "                'Symbole','Description du Symbole','Produit','Note']"
   ]
  },
  {
   "cell_type": "code",
   "execution_count": 31,
   "id": "226e58a0",
   "metadata": {
    "scrolled": true
   },
   "outputs": [
    {
     "data": {
      "text/html": [
       "<div>\n",
       "<style scoped>\n",
       "    .dataframe tbody tr th:only-of-type {\n",
       "        vertical-align: middle;\n",
       "    }\n",
       "\n",
       "    .dataframe tbody tr th {\n",
       "        vertical-align: top;\n",
       "    }\n",
       "\n",
       "    .dataframe thead th {\n",
       "        text-align: right;\n",
       "    }\n",
       "</style>\n",
       "<table border=\"1\" class=\"dataframe\">\n",
       "  <thead>\n",
       "    <tr style=\"text-align: right;\">\n",
       "      <th></th>\n",
       "      <th>Zone</th>\n",
       "      <th>Élément</th>\n",
       "      <th>Valeur</th>\n",
       "    </tr>\n",
       "  </thead>\n",
       "  <tbody>\n",
       "    <tr>\n",
       "      <th>0</th>\n",
       "      <td>Afghanistan</td>\n",
       "      <td>Valeur US $</td>\n",
       "      <td>18896.352020</td>\n",
       "    </tr>\n",
       "    <tr>\n",
       "      <th>1</th>\n",
       "      <td>Afghanistan</td>\n",
       "      <td>Valeur US $ par habitant</td>\n",
       "      <td>530.149831</td>\n",
       "    </tr>\n",
       "  </tbody>\n",
       "</table>\n",
       "</div>"
      ],
      "text/plain": [
       "          Zone                   Élément        Valeur\n",
       "0  Afghanistan               Valeur US $  18896.352020\n",
       "1  Afghanistan  Valeur US $ par habitant    530.149831"
      ]
     },
     "execution_count": 31,
     "metadata": {},
     "output_type": "execute_result"
    }
   ],
   "source": [
    "# supprimer les colonnes\n",
    "df_pib_2017 = df_pib.drop(columns=col_pib_d)\n",
    "df_pib_2017.head(2)"
   ]
  },
  {
   "cell_type": "code",
   "execution_count": 32,
   "id": "e1c2a1a9",
   "metadata": {
    "scrolled": true
   },
   "outputs": [
    {
     "data": {
      "text/html": [
       "<div>\n",
       "<style scoped>\n",
       "    .dataframe tbody tr th:only-of-type {\n",
       "        vertical-align: middle;\n",
       "    }\n",
       "\n",
       "    .dataframe tbody tr th {\n",
       "        vertical-align: top;\n",
       "    }\n",
       "\n",
       "    .dataframe thead th {\n",
       "        text-align: right;\n",
       "    }\n",
       "</style>\n",
       "<table border=\"1\" class=\"dataframe\">\n",
       "  <thead>\n",
       "    <tr style=\"text-align: right;\">\n",
       "      <th>Élément</th>\n",
       "      <th>Valeur US $</th>\n",
       "      <th>Valeur US $ par habitant</th>\n",
       "    </tr>\n",
       "    <tr>\n",
       "      <th>Zone</th>\n",
       "      <th></th>\n",
       "      <th></th>\n",
       "    </tr>\n",
       "  </thead>\n",
       "  <tbody>\n",
       "    <tr>\n",
       "      <th>Afghanistan</th>\n",
       "      <td>18896.35202</td>\n",
       "      <td>530.149831</td>\n",
       "    </tr>\n",
       "    <tr>\n",
       "      <th>Afrique du Sud</th>\n",
       "      <td>380851.44410</td>\n",
       "      <td>6723.928582</td>\n",
       "    </tr>\n",
       "    <tr>\n",
       "      <th>Albanie</th>\n",
       "      <td>13019.72986</td>\n",
       "      <td>4521.752219</td>\n",
       "    </tr>\n",
       "  </tbody>\n",
       "</table>\n",
       "</div>"
      ],
      "text/plain": [
       "Élément          Valeur US $  Valeur US $ par habitant\n",
       "Zone                                                  \n",
       "Afghanistan      18896.35202                530.149831\n",
       "Afrique du Sud  380851.44410               6723.928582\n",
       "Albanie          13019.72986               4521.752219"
      ]
     },
     "execution_count": 32,
     "metadata": {},
     "output_type": "execute_result"
    }
   ],
   "source": [
    "# pivotage\n",
    "df_pib_pi = df_pib_2017.pivot(index='Zone', columns='Élément', values='Valeur')\n",
    "df_pib_pi.head(3)"
   ]
  },
  {
   "cell_type": "markdown",
   "id": "97e26238",
   "metadata": {},
   "source": [
    "On préfère le PIB par habitant parcque je trouve la données plus parlante par rapport au PIB générale."
   ]
  },
  {
   "cell_type": "code",
   "execution_count": 33,
   "id": "2a631297",
   "metadata": {},
   "outputs": [],
   "source": [
    "# drop colonne\n",
    "df_pib_pi.drop(columns='Valeur US $', inplace=True)"
   ]
  },
  {
   "cell_type": "code",
   "execution_count": 34,
   "id": "9f9c7e5e",
   "metadata": {},
   "outputs": [
    {
     "data": {
      "text/html": [
       "<div>\n",
       "<style scoped>\n",
       "    .dataframe tbody tr th:only-of-type {\n",
       "        vertical-align: middle;\n",
       "    }\n",
       "\n",
       "    .dataframe tbody tr th {\n",
       "        vertical-align: top;\n",
       "    }\n",
       "\n",
       "    .dataframe thead th {\n",
       "        text-align: right;\n",
       "    }\n",
       "</style>\n",
       "<table border=\"1\" class=\"dataframe\">\n",
       "  <thead>\n",
       "    <tr style=\"text-align: right;\">\n",
       "      <th>Élément</th>\n",
       "      <th>PIB/Habitant US $</th>\n",
       "    </tr>\n",
       "    <tr>\n",
       "      <th>Zone</th>\n",
       "      <th></th>\n",
       "    </tr>\n",
       "  </thead>\n",
       "  <tbody>\n",
       "    <tr>\n",
       "      <th>Afghanistan</th>\n",
       "      <td>530.149831</td>\n",
       "    </tr>\n",
       "    <tr>\n",
       "      <th>Afrique du Sud</th>\n",
       "      <td>6723.928582</td>\n",
       "    </tr>\n",
       "  </tbody>\n",
       "</table>\n",
       "</div>"
      ],
      "text/plain": [
       "Élément         PIB/Habitant US $\n",
       "Zone                             \n",
       "Afghanistan            530.149831\n",
       "Afrique du Sud        6723.928582"
      ]
     },
     "execution_count": 34,
     "metadata": {},
     "output_type": "execute_result"
    }
   ],
   "source": [
    "# renommer la colonne\n",
    "df_pib_pi.rename(columns={'Valeur US $ par habitant':'PIB/Habitant US $' }, inplace=True)\n",
    "df_pib_pi.head(2)"
   ]
  },
  {
   "cell_type": "markdown",
   "id": "77b8b89b",
   "metadata": {},
   "source": [
    "### <a name = 'T6'> 2.4 Stabilité politique </a>"
   ]
  },
  {
   "cell_type": "code",
   "execution_count": 35,
   "id": "71a54474",
   "metadata": {},
   "outputs": [
    {
     "data": {
      "text/html": [
       "<div>\n",
       "<style scoped>\n",
       "    .dataframe tbody tr th:only-of-type {\n",
       "        vertical-align: middle;\n",
       "    }\n",
       "\n",
       "    .dataframe tbody tr th {\n",
       "        vertical-align: top;\n",
       "    }\n",
       "\n",
       "    .dataframe thead th {\n",
       "        text-align: right;\n",
       "    }\n",
       "</style>\n",
       "<table border=\"1\" class=\"dataframe\">\n",
       "  <thead>\n",
       "    <tr style=\"text-align: right;\">\n",
       "      <th></th>\n",
       "      <th>Code Domaine</th>\n",
       "      <th>Domaine</th>\n",
       "      <th>Code zone (FAO)</th>\n",
       "      <th>Zone</th>\n",
       "      <th>Code Élément</th>\n",
       "      <th>Élément</th>\n",
       "      <th>Code Produit</th>\n",
       "      <th>Produit</th>\n",
       "      <th>Code année</th>\n",
       "      <th>Année</th>\n",
       "      <th>Unité</th>\n",
       "      <th>Valeur</th>\n",
       "      <th>Symbole</th>\n",
       "      <th>Description du Symbole</th>\n",
       "      <th>Note</th>\n",
       "    </tr>\n",
       "  </thead>\n",
       "  <tbody>\n",
       "    <tr>\n",
       "      <th>0</th>\n",
       "      <td>FS</td>\n",
       "      <td>Données de la sécurité alimentaire</td>\n",
       "      <td>2</td>\n",
       "      <td>Afghanistan</td>\n",
       "      <td>6125</td>\n",
       "      <td>Valeur</td>\n",
       "      <td>21032</td>\n",
       "      <td>Stabilité politique et absence de violence/ter...</td>\n",
       "      <td>2017</td>\n",
       "      <td>2017</td>\n",
       "      <td>indice</td>\n",
       "      <td>-2.80</td>\n",
       "      <td>X</td>\n",
       "      <td>Ciffre de sources internationales</td>\n",
       "      <td>NaN</td>\n",
       "    </tr>\n",
       "    <tr>\n",
       "      <th>1</th>\n",
       "      <td>FS</td>\n",
       "      <td>Données de la sécurité alimentaire</td>\n",
       "      <td>202</td>\n",
       "      <td>Afrique du Sud</td>\n",
       "      <td>6125</td>\n",
       "      <td>Valeur</td>\n",
       "      <td>21032</td>\n",
       "      <td>Stabilité politique et absence de violence/ter...</td>\n",
       "      <td>2017</td>\n",
       "      <td>2017</td>\n",
       "      <td>indice</td>\n",
       "      <td>-0.28</td>\n",
       "      <td>X</td>\n",
       "      <td>Ciffre de sources internationales</td>\n",
       "      <td>NaN</td>\n",
       "    </tr>\n",
       "  </tbody>\n",
       "</table>\n",
       "</div>"
      ],
      "text/plain": [
       "  Code Domaine                             Domaine  Code zone (FAO)  \\\n",
       "0           FS  Données de la sécurité alimentaire                2   \n",
       "1           FS  Données de la sécurité alimentaire              202   \n",
       "\n",
       "             Zone  Code Élément Élément  Code Produit  \\\n",
       "0     Afghanistan          6125  Valeur         21032   \n",
       "1  Afrique du Sud          6125  Valeur         21032   \n",
       "\n",
       "                                             Produit  Code année  Année  \\\n",
       "0  Stabilité politique et absence de violence/ter...        2017   2017   \n",
       "1  Stabilité politique et absence de violence/ter...        2017   2017   \n",
       "\n",
       "    Unité  Valeur Symbole             Description du Symbole  Note  \n",
       "0  indice   -2.80       X  Ciffre de sources internationales   NaN  \n",
       "1  indice   -0.28       X  Ciffre de sources internationales   NaN  "
      ]
     },
     "execution_count": 35,
     "metadata": {},
     "output_type": "execute_result"
    }
   ],
   "source": [
    "# affichage df\n",
    "df_stab.head(2)"
   ]
  },
  {
   "cell_type": "code",
   "execution_count": 36,
   "id": "addd4377",
   "metadata": {},
   "outputs": [
    {
     "data": {
      "text/plain": [
       "(197, 15)"
      ]
     },
     "execution_count": 36,
     "metadata": {},
     "output_type": "execute_result"
    }
   ],
   "source": [
    "# controle dimensions\n",
    "df_stab.shape"
   ]
  },
  {
   "cell_type": "code",
   "execution_count": 37,
   "id": "5378ca17",
   "metadata": {},
   "outputs": [
    {
     "data": {
      "text/plain": [
       "Code Domaine                0\n",
       "Domaine                     0\n",
       "Code zone (FAO)             0\n",
       "Zone                        0\n",
       "Code Élément                0\n",
       "Élément                     0\n",
       "Code Produit                0\n",
       "Produit                     0\n",
       "Code année                  0\n",
       "Année                       0\n",
       "Unité                       0\n",
       "Valeur                      0\n",
       "Symbole                     0\n",
       "Description du Symbole      0\n",
       "Note                      197\n",
       "dtype: int64"
      ]
     },
     "execution_count": 37,
     "metadata": {},
     "output_type": "execute_result"
    }
   ],
   "source": [
    "# controle valeurs nulles\n",
    "df_stab.isnull().sum()"
   ]
  },
  {
   "cell_type": "code",
   "execution_count": 38,
   "id": "1216188e",
   "metadata": {},
   "outputs": [],
   "source": [
    "# variable colonne\n",
    "coll_stab_d = ['Code Domaine', 'Domaine', 'Code zone (FAO)', 'Code Élément',\n",
    "             'Élément', 'Code Produit', 'Produit', 'Code année', 'Année', \n",
    "             'Unité','Symbole', 'Description du Symbole', 'Note']"
   ]
  },
  {
   "cell_type": "code",
   "execution_count": 39,
   "id": "e2608256",
   "metadata": {},
   "outputs": [],
   "source": [
    "# supprimer les colonnes\n",
    "df_stab.drop(columns=coll_stab_d, inplace = True)"
   ]
  },
  {
   "cell_type": "code",
   "execution_count": 40,
   "id": "1a361359",
   "metadata": {},
   "outputs": [],
   "source": [
    "# création moyenne pour la chine continentale\n",
    "means = df_stab[df_stab.Zone.str.contains('Chine')]\n",
    "moy = means['Valeur'].mean()"
   ]
  },
  {
   "cell_type": "code",
   "execution_count": 41,
   "id": "99458cbc",
   "metadata": {},
   "outputs": [
    {
     "name": "stderr",
     "output_type": "stream",
     "text": [
      "C:\\Users\\Zacca\\AppData\\Local\\Temp\\ipykernel_23120\\2722405888.py:3: FutureWarning: The frame.append method is deprecated and will be removed from pandas in a future version. Use pandas.concat instead.\n",
      "  df_stab = df_stab.append(df2, ignore_index = True)\n"
     ]
    }
   ],
   "source": [
    "# insertion de la ligne avec la chine continentale dans le df\n",
    "df2 = {'Zone': 'Chine, continentale', 'Valeur' :moy}\n",
    "df_stab = df_stab.append(df2, ignore_index = True)"
   ]
  },
  {
   "cell_type": "code",
   "execution_count": 42,
   "id": "2701523e",
   "metadata": {},
   "outputs": [],
   "source": [
    "# renommer la colonne valeur\n",
    "df_stab.rename(columns={'Valeur':'Stabilité Politique'}, inplace = True)"
   ]
  },
  {
   "cell_type": "code",
   "execution_count": 43,
   "id": "65162d62",
   "metadata": {},
   "outputs": [
    {
     "data": {
      "text/html": [
       "<div>\n",
       "<style scoped>\n",
       "    .dataframe tbody tr th:only-of-type {\n",
       "        vertical-align: middle;\n",
       "    }\n",
       "\n",
       "    .dataframe tbody tr th {\n",
       "        vertical-align: top;\n",
       "    }\n",
       "\n",
       "    .dataframe thead th {\n",
       "        text-align: right;\n",
       "    }\n",
       "</style>\n",
       "<table border=\"1\" class=\"dataframe\">\n",
       "  <thead>\n",
       "    <tr style=\"text-align: right;\">\n",
       "      <th></th>\n",
       "      <th>Stabilité Politique</th>\n",
       "    </tr>\n",
       "    <tr>\n",
       "      <th>Zone</th>\n",
       "      <th></th>\n",
       "    </tr>\n",
       "  </thead>\n",
       "  <tbody>\n",
       "    <tr>\n",
       "      <th>Afghanistan</th>\n",
       "      <td>-2.80</td>\n",
       "    </tr>\n",
       "    <tr>\n",
       "      <th>Afrique du Sud</th>\n",
       "      <td>-0.28</td>\n",
       "    </tr>\n",
       "    <tr>\n",
       "      <th>Albanie</th>\n",
       "      <td>0.38</td>\n",
       "    </tr>\n",
       "    <tr>\n",
       "      <th>Algérie</th>\n",
       "      <td>-0.92</td>\n",
       "    </tr>\n",
       "    <tr>\n",
       "      <th>Allemagne</th>\n",
       "      <td>0.59</td>\n",
       "    </tr>\n",
       "    <tr>\n",
       "      <th>...</th>\n",
       "      <td>...</td>\n",
       "    </tr>\n",
       "    <tr>\n",
       "      <th>Viet Nam</th>\n",
       "      <td>0.23</td>\n",
       "    </tr>\n",
       "    <tr>\n",
       "      <th>Yémen</th>\n",
       "      <td>-2.94</td>\n",
       "    </tr>\n",
       "    <tr>\n",
       "      <th>Zambie</th>\n",
       "      <td>0.15</td>\n",
       "    </tr>\n",
       "    <tr>\n",
       "      <th>Zimbabwe</th>\n",
       "      <td>-0.71</td>\n",
       "    </tr>\n",
       "    <tr>\n",
       "      <th>Chine, continentale</th>\n",
       "      <td>1.04</td>\n",
       "    </tr>\n",
       "  </tbody>\n",
       "</table>\n",
       "<p>198 rows × 1 columns</p>\n",
       "</div>"
      ],
      "text/plain": [
       "                     Stabilité Politique\n",
       "Zone                                    \n",
       "Afghanistan                        -2.80\n",
       "Afrique du Sud                     -0.28\n",
       "Albanie                             0.38\n",
       "Algérie                            -0.92\n",
       "Allemagne                           0.59\n",
       "...                                  ...\n",
       "Viet Nam                            0.23\n",
       "Yémen                              -2.94\n",
       "Zambie                              0.15\n",
       "Zimbabwe                           -0.71\n",
       "Chine, continentale                 1.04\n",
       "\n",
       "[198 rows x 1 columns]"
      ]
     },
     "execution_count": 43,
     "metadata": {},
     "output_type": "execute_result"
    }
   ],
   "source": [
    "# set index\n",
    "df_stab.set_index('Zone')"
   ]
  },
  {
   "cell_type": "markdown",
   "id": "86116474",
   "metadata": {},
   "source": [
    "## <a name = 'T7'> 3 - Jointures </a> "
   ]
  },
  {
   "cell_type": "code",
   "execution_count": 44,
   "id": "eb63bf84",
   "metadata": {},
   "outputs": [],
   "source": [
    "# Merge entre alim, population et pib\n",
    "df_1 = pd.merge(pd.merge(df_alim_pi,df_pop_2017, on='Zone'),df_pib_pi, on='Zone')"
   ]
  },
  {
   "cell_type": "code",
   "execution_count": 45,
   "id": "7cf27e90",
   "metadata": {},
   "outputs": [],
   "source": [
    "# merge avec stabilité politique\n",
    "df = pd.merge(df_1, df_stab, on='Zone')"
   ]
  },
  {
   "cell_type": "code",
   "execution_count": 46,
   "id": "06ccf28a",
   "metadata": {},
   "outputs": [
    {
     "data": {
      "text/html": [
       "<div>\n",
       "<style scoped>\n",
       "    .dataframe tbody tr th:only-of-type {\n",
       "        vertical-align: middle;\n",
       "    }\n",
       "\n",
       "    .dataframe tbody tr th {\n",
       "        vertical-align: top;\n",
       "    }\n",
       "\n",
       "    .dataframe thead th {\n",
       "        text-align: right;\n",
       "    }\n",
       "</style>\n",
       "<table border=\"1\" class=\"dataframe\">\n",
       "  <thead>\n",
       "    <tr style=\"text-align: right;\">\n",
       "      <th></th>\n",
       "      <th>Zone</th>\n",
       "      <th>Disponibilité alimentaire (Kcal/personne/jour)</th>\n",
       "      <th>Disponibilité de protéines en quantité (g/personne/jour)</th>\n",
       "      <th>Disponibilité intérieure</th>\n",
       "      <th>Importations - Quantité</th>\n",
       "      <th>Production</th>\n",
       "      <th>Population</th>\n",
       "      <th>PIB/Habitant US $</th>\n",
       "      <th>Stabilité Politique</th>\n",
       "    </tr>\n",
       "  </thead>\n",
       "  <tbody>\n",
       "    <tr>\n",
       "      <th>0</th>\n",
       "      <td>Afghanistan</td>\n",
       "      <td>5.0</td>\n",
       "      <td>0.54</td>\n",
       "      <td>57.0</td>\n",
       "      <td>29.0</td>\n",
       "      <td>28.0</td>\n",
       "      <td>10.499466</td>\n",
       "      <td>530.149831</td>\n",
       "      <td>-2.80</td>\n",
       "    </tr>\n",
       "    <tr>\n",
       "      <th>1</th>\n",
       "      <td>Afrique du Sud</td>\n",
       "      <td>143.0</td>\n",
       "      <td>14.11</td>\n",
       "      <td>2118.0</td>\n",
       "      <td>514.0</td>\n",
       "      <td>1667.0</td>\n",
       "      <td>10.950978</td>\n",
       "      <td>6723.928582</td>\n",
       "      <td>-0.28</td>\n",
       "    </tr>\n",
       "  </tbody>\n",
       "</table>\n",
       "</div>"
      ],
      "text/plain": [
       "             Zone  Disponibilité alimentaire (Kcal/personne/jour)  \\\n",
       "0     Afghanistan                                             5.0   \n",
       "1  Afrique du Sud                                           143.0   \n",
       "\n",
       "   Disponibilité de protéines en quantité (g/personne/jour)  \\\n",
       "0                                               0.54          \n",
       "1                                              14.11          \n",
       "\n",
       "   Disponibilité intérieure  Importations - Quantité  Production  Population  \\\n",
       "0                      57.0                     29.0        28.0   10.499466   \n",
       "1                    2118.0                    514.0      1667.0   10.950978   \n",
       "\n",
       "   PIB/Habitant US $  Stabilité Politique  \n",
       "0         530.149831                -2.80  \n",
       "1        6723.928582                -0.28  "
      ]
     },
     "execution_count": 46,
     "metadata": {},
     "output_type": "execute_result"
    }
   ],
   "source": [
    "# affichage df\n",
    "df.head(2)"
   ]
  },
  {
   "cell_type": "code",
   "execution_count": 47,
   "id": "ca1e7df4",
   "metadata": {},
   "outputs": [],
   "source": [
    "# rennomer \n",
    "df.rename(columns={'Zone':'Pays'},inplace=True)"
   ]
  },
  {
   "cell_type": "code",
   "execution_count": 48,
   "id": "d537a030",
   "metadata": {},
   "outputs": [
    {
     "data": {
      "text/html": [
       "<div>\n",
       "<style scoped>\n",
       "    .dataframe tbody tr th:only-of-type {\n",
       "        vertical-align: middle;\n",
       "    }\n",
       "\n",
       "    .dataframe tbody tr th {\n",
       "        vertical-align: top;\n",
       "    }\n",
       "\n",
       "    .dataframe thead th {\n",
       "        text-align: right;\n",
       "    }\n",
       "</style>\n",
       "<table border=\"1\" class=\"dataframe\">\n",
       "  <thead>\n",
       "    <tr style=\"text-align: right;\">\n",
       "      <th></th>\n",
       "      <th>Pays</th>\n",
       "      <th>Disponibilité alimentaire (Kcal/personne/jour)</th>\n",
       "      <th>Disponibilité de protéines en quantité (g/personne/jour)</th>\n",
       "      <th>Disponibilité intérieure</th>\n",
       "      <th>Importations - Quantité</th>\n",
       "      <th>Production</th>\n",
       "      <th>Population</th>\n",
       "      <th>PIB/Habitant US $</th>\n",
       "      <th>Stabilité Politique</th>\n",
       "    </tr>\n",
       "  </thead>\n",
       "  <tbody>\n",
       "    <tr>\n",
       "      <th>0</th>\n",
       "      <td>Afghanistan</td>\n",
       "      <td>5.0</td>\n",
       "      <td>0.54</td>\n",
       "      <td>57.0</td>\n",
       "      <td>29.0</td>\n",
       "      <td>28.0</td>\n",
       "      <td>10.499466</td>\n",
       "      <td>530.149831</td>\n",
       "      <td>-2.80</td>\n",
       "    </tr>\n",
       "    <tr>\n",
       "      <th>1</th>\n",
       "      <td>Afrique du Sud</td>\n",
       "      <td>143.0</td>\n",
       "      <td>14.11</td>\n",
       "      <td>2118.0</td>\n",
       "      <td>514.0</td>\n",
       "      <td>1667.0</td>\n",
       "      <td>10.950978</td>\n",
       "      <td>6723.928582</td>\n",
       "      <td>-0.28</td>\n",
       "    </tr>\n",
       "  </tbody>\n",
       "</table>\n",
       "</div>"
      ],
      "text/plain": [
       "             Pays  Disponibilité alimentaire (Kcal/personne/jour)  \\\n",
       "0     Afghanistan                                             5.0   \n",
       "1  Afrique du Sud                                           143.0   \n",
       "\n",
       "   Disponibilité de protéines en quantité (g/personne/jour)  \\\n",
       "0                                               0.54          \n",
       "1                                              14.11          \n",
       "\n",
       "   Disponibilité intérieure  Importations - Quantité  Production  Population  \\\n",
       "0                      57.0                     29.0        28.0   10.499466   \n",
       "1                    2118.0                    514.0      1667.0   10.950978   \n",
       "\n",
       "   PIB/Habitant US $  Stabilité Politique  \n",
       "0         530.149831                -2.80  \n",
       "1        6723.928582                -0.28  "
      ]
     },
     "execution_count": 48,
     "metadata": {},
     "output_type": "execute_result"
    }
   ],
   "source": [
    "# affichage df \n",
    "df.head(2)"
   ]
  },
  {
   "cell_type": "code",
   "execution_count": 49,
   "id": "6fa5be51",
   "metadata": {},
   "outputs": [],
   "source": [
    "df.to_csv('data_nettoyage', index=False)"
   ]
  },
  {
   "cell_type": "code",
   "execution_count": null,
   "id": "d574103f",
   "metadata": {},
   "outputs": [],
   "source": []
  }
 ],
 "metadata": {
  "kernelspec": {
   "display_name": "Python 3 (ipykernel)",
   "language": "python",
   "name": "python3"
  },
  "language_info": {
   "codemirror_mode": {
    "name": "ipython",
    "version": 3
   },
   "file_extension": ".py",
   "mimetype": "text/x-python",
   "name": "python",
   "nbconvert_exporter": "python",
   "pygments_lexer": "ipython3",
   "version": "3.9.13"
  }
 },
 "nbformat": 4,
 "nbformat_minor": 5
}
